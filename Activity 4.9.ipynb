{
 "cells": [
  {
   "cell_type": "markdown",
   "metadata": {},
   "source": [
    "# EXERCISE 1"
   ]
  },
  {
   "cell_type": "markdown",
   "metadata": {},
   "source": [
    "<pre>Revist the sample code on data structures from week 1 which contains data in a number of different data structures, such as list[] and dict(). Using these structures within a program and see what you can convert into either a pandas's Series or DataFrame. "
   ]
  },
  {
   "cell_type": "code",
   "execution_count": 36,
   "metadata": {},
   "outputs": [],
   "source": [
    "import pandas as pd\n",
    "import numpy as np"
   ]
  },
  {
   "cell_type": "code",
   "execution_count": 20,
   "metadata": {},
   "outputs": [],
   "source": [
    "animals  = ['elephant', 'panda', 'mouse', 'penguin'] "
   ]
  },
  {
   "cell_type": "code",
   "execution_count": 21,
   "metadata": {},
   "outputs": [],
   "source": [
    "df = pd.DataFrame(animals)"
   ]
  },
  {
   "cell_type": "code",
   "execution_count": 22,
   "metadata": {},
   "outputs": [],
   "source": [
    "ser = pd.Series(animals)"
   ]
  },
  {
   "cell_type": "code",
   "execution_count": 23,
   "metadata": {
    "scrolled": true
   },
   "outputs": [
    {
     "data": {
      "text/html": [
       "<div>\n",
       "<style scoped>\n",
       "    .dataframe tbody tr th:only-of-type {\n",
       "        vertical-align: middle;\n",
       "    }\n",
       "\n",
       "    .dataframe tbody tr th {\n",
       "        vertical-align: top;\n",
       "    }\n",
       "\n",
       "    .dataframe thead th {\n",
       "        text-align: right;\n",
       "    }\n",
       "</style>\n",
       "<table border=\"1\" class=\"dataframe\">\n",
       "  <thead>\n",
       "    <tr style=\"text-align: right;\">\n",
       "      <th></th>\n",
       "      <th>0</th>\n",
       "    </tr>\n",
       "  </thead>\n",
       "  <tbody>\n",
       "    <tr>\n",
       "      <th>0</th>\n",
       "      <td>elephant</td>\n",
       "    </tr>\n",
       "    <tr>\n",
       "      <th>1</th>\n",
       "      <td>panda</td>\n",
       "    </tr>\n",
       "    <tr>\n",
       "      <th>2</th>\n",
       "      <td>mouse</td>\n",
       "    </tr>\n",
       "    <tr>\n",
       "      <th>3</th>\n",
       "      <td>penguin</td>\n",
       "    </tr>\n",
       "  </tbody>\n",
       "</table>\n",
       "</div>"
      ],
      "text/plain": [
       "          0\n",
       "0  elephant\n",
       "1     panda\n",
       "2     mouse\n",
       "3   penguin"
      ]
     },
     "execution_count": 23,
     "metadata": {},
     "output_type": "execute_result"
    }
   ],
   "source": [
    "df"
   ]
  },
  {
   "cell_type": "code",
   "execution_count": 31,
   "metadata": {},
   "outputs": [],
   "source": [
    "df.columns = [\"ANIMALS\"]"
   ]
  },
  {
   "cell_type": "code",
   "execution_count": 32,
   "metadata": {},
   "outputs": [
    {
     "data": {
      "text/html": [
       "<div>\n",
       "<style scoped>\n",
       "    .dataframe tbody tr th:only-of-type {\n",
       "        vertical-align: middle;\n",
       "    }\n",
       "\n",
       "    .dataframe tbody tr th {\n",
       "        vertical-align: top;\n",
       "    }\n",
       "\n",
       "    .dataframe thead th {\n",
       "        text-align: right;\n",
       "    }\n",
       "</style>\n",
       "<table border=\"1\" class=\"dataframe\">\n",
       "  <thead>\n",
       "    <tr style=\"text-align: right;\">\n",
       "      <th></th>\n",
       "      <th>ANIMALS</th>\n",
       "    </tr>\n",
       "  </thead>\n",
       "  <tbody>\n",
       "    <tr>\n",
       "      <th>0</th>\n",
       "      <td>elephant</td>\n",
       "    </tr>\n",
       "    <tr>\n",
       "      <th>1</th>\n",
       "      <td>panda</td>\n",
       "    </tr>\n",
       "    <tr>\n",
       "      <th>2</th>\n",
       "      <td>mouse</td>\n",
       "    </tr>\n",
       "    <tr>\n",
       "      <th>3</th>\n",
       "      <td>penguin</td>\n",
       "    </tr>\n",
       "  </tbody>\n",
       "</table>\n",
       "</div>"
      ],
      "text/plain": [
       "    ANIMALS\n",
       "0  elephant\n",
       "1     panda\n",
       "2     mouse\n",
       "3   penguin"
      ]
     },
     "execution_count": 32,
     "metadata": {},
     "output_type": "execute_result"
    }
   ],
   "source": [
    "df"
   ]
  },
  {
   "cell_type": "code",
   "execution_count": 49,
   "metadata": {},
   "outputs": [],
   "source": [
    "matrix = np.ones([5,5])\n",
    "        "
   ]
  },
  {
   "cell_type": "code",
   "execution_count": 50,
   "metadata": {},
   "outputs": [
    {
     "data": {
      "text/html": [
       "<div>\n",
       "<style scoped>\n",
       "    .dataframe tbody tr th:only-of-type {\n",
       "        vertical-align: middle;\n",
       "    }\n",
       "\n",
       "    .dataframe tbody tr th {\n",
       "        vertical-align: top;\n",
       "    }\n",
       "\n",
       "    .dataframe thead th {\n",
       "        text-align: right;\n",
       "    }\n",
       "</style>\n",
       "<table border=\"1\" class=\"dataframe\">\n",
       "  <thead>\n",
       "    <tr style=\"text-align: right;\">\n",
       "      <th></th>\n",
       "      <th>0</th>\n",
       "      <th>1</th>\n",
       "      <th>2</th>\n",
       "      <th>3</th>\n",
       "      <th>4</th>\n",
       "    </tr>\n",
       "  </thead>\n",
       "  <tbody>\n",
       "    <tr>\n",
       "      <th>0</th>\n",
       "      <td>1.0</td>\n",
       "      <td>1.0</td>\n",
       "      <td>1.0</td>\n",
       "      <td>1.0</td>\n",
       "      <td>1.0</td>\n",
       "    </tr>\n",
       "    <tr>\n",
       "      <th>1</th>\n",
       "      <td>1.0</td>\n",
       "      <td>1.0</td>\n",
       "      <td>1.0</td>\n",
       "      <td>1.0</td>\n",
       "      <td>1.0</td>\n",
       "    </tr>\n",
       "    <tr>\n",
       "      <th>2</th>\n",
       "      <td>1.0</td>\n",
       "      <td>1.0</td>\n",
       "      <td>1.0</td>\n",
       "      <td>1.0</td>\n",
       "      <td>1.0</td>\n",
       "    </tr>\n",
       "    <tr>\n",
       "      <th>3</th>\n",
       "      <td>1.0</td>\n",
       "      <td>1.0</td>\n",
       "      <td>1.0</td>\n",
       "      <td>1.0</td>\n",
       "      <td>1.0</td>\n",
       "    </tr>\n",
       "    <tr>\n",
       "      <th>4</th>\n",
       "      <td>1.0</td>\n",
       "      <td>1.0</td>\n",
       "      <td>1.0</td>\n",
       "      <td>1.0</td>\n",
       "      <td>1.0</td>\n",
       "    </tr>\n",
       "  </tbody>\n",
       "</table>\n",
       "</div>"
      ],
      "text/plain": [
       "     0    1    2    3    4\n",
       "0  1.0  1.0  1.0  1.0  1.0\n",
       "1  1.0  1.0  1.0  1.0  1.0\n",
       "2  1.0  1.0  1.0  1.0  1.0\n",
       "3  1.0  1.0  1.0  1.0  1.0\n",
       "4  1.0  1.0  1.0  1.0  1.0"
      ]
     },
     "execution_count": 50,
     "metadata": {},
     "output_type": "execute_result"
    }
   ],
   "source": [
    "pd.DataFrame(matrix)"
   ]
  },
  {
   "cell_type": "code",
   "execution_count": 59,
   "metadata": {},
   "outputs": [],
   "source": [
    "fruit = (\"Apples\", \"Oranges\", \"Bananas\")\n",
    "fruit_df= pd.DataFrame(fruit)"
   ]
  },
  {
   "cell_type": "code",
   "execution_count": 60,
   "metadata": {},
   "outputs": [
    {
     "data": {
      "text/html": [
       "<div>\n",
       "<style scoped>\n",
       "    .dataframe tbody tr th:only-of-type {\n",
       "        vertical-align: middle;\n",
       "    }\n",
       "\n",
       "    .dataframe tbody tr th {\n",
       "        vertical-align: top;\n",
       "    }\n",
       "\n",
       "    .dataframe thead th {\n",
       "        text-align: right;\n",
       "    }\n",
       "</style>\n",
       "<table border=\"1\" class=\"dataframe\">\n",
       "  <thead>\n",
       "    <tr style=\"text-align: right;\">\n",
       "      <th></th>\n",
       "      <th>0</th>\n",
       "    </tr>\n",
       "  </thead>\n",
       "  <tbody>\n",
       "    <tr>\n",
       "      <th>0</th>\n",
       "      <td>Apples</td>\n",
       "    </tr>\n",
       "    <tr>\n",
       "      <th>1</th>\n",
       "      <td>Oranges</td>\n",
       "    </tr>\n",
       "    <tr>\n",
       "      <th>2</th>\n",
       "      <td>Bananas</td>\n",
       "    </tr>\n",
       "  </tbody>\n",
       "</table>\n",
       "</div>"
      ],
      "text/plain": [
       "         0\n",
       "0   Apples\n",
       "1  Oranges\n",
       "2  Bananas"
      ]
     },
     "execution_count": 60,
     "metadata": {},
     "output_type": "execute_result"
    }
   ],
   "source": [
    "fruit_df"
   ]
  },
  {
   "cell_type": "code",
   "execution_count": 61,
   "metadata": {},
   "outputs": [],
   "source": [
    "fruit_df[0][1] = \"Apples\""
   ]
  },
  {
   "cell_type": "code",
   "execution_count": 62,
   "metadata": {},
   "outputs": [
    {
     "data": {
      "text/html": [
       "<div>\n",
       "<style scoped>\n",
       "    .dataframe tbody tr th:only-of-type {\n",
       "        vertical-align: middle;\n",
       "    }\n",
       "\n",
       "    .dataframe tbody tr th {\n",
       "        vertical-align: top;\n",
       "    }\n",
       "\n",
       "    .dataframe thead th {\n",
       "        text-align: right;\n",
       "    }\n",
       "</style>\n",
       "<table border=\"1\" class=\"dataframe\">\n",
       "  <thead>\n",
       "    <tr style=\"text-align: right;\">\n",
       "      <th></th>\n",
       "      <th>0</th>\n",
       "    </tr>\n",
       "  </thead>\n",
       "  <tbody>\n",
       "    <tr>\n",
       "      <th>0</th>\n",
       "      <td>Apples</td>\n",
       "    </tr>\n",
       "    <tr>\n",
       "      <th>1</th>\n",
       "      <td>Apples</td>\n",
       "    </tr>\n",
       "    <tr>\n",
       "      <th>2</th>\n",
       "      <td>Bananas</td>\n",
       "    </tr>\n",
       "  </tbody>\n",
       "</table>\n",
       "</div>"
      ],
      "text/plain": [
       "         0\n",
       "0   Apples\n",
       "1   Apples\n",
       "2  Bananas"
      ]
     },
     "execution_count": 62,
     "metadata": {},
     "output_type": "execute_result"
    }
   ],
   "source": [
    "fruit_df"
   ]
  },
  {
   "cell_type": "code",
   "execution_count": 72,
   "metadata": {},
   "outputs": [
    {
     "data": {
      "text/html": [
       "<div>\n",
       "<style scoped>\n",
       "    .dataframe tbody tr th:only-of-type {\n",
       "        vertical-align: middle;\n",
       "    }\n",
       "\n",
       "    .dataframe tbody tr th {\n",
       "        vertical-align: top;\n",
       "    }\n",
       "\n",
       "    .dataframe thead th {\n",
       "        text-align: right;\n",
       "    }\n",
       "</style>\n",
       "<table border=\"1\" class=\"dataframe\">\n",
       "  <thead>\n",
       "    <tr style=\"text-align: right;\">\n",
       "      <th></th>\n",
       "      <th>0</th>\n",
       "      <th>1</th>\n",
       "      <th>2</th>\n",
       "      <th>3</th>\n",
       "      <th>4</th>\n",
       "      <th>5</th>\n",
       "      <th>6</th>\n",
       "      <th>7</th>\n",
       "      <th>8</th>\n",
       "      <th>9</th>\n",
       "    </tr>\n",
       "  </thead>\n",
       "  <tbody>\n",
       "    <tr>\n",
       "      <th>0</th>\n",
       "      <td>2</td>\n",
       "      <td>4</td>\n",
       "      <td>6</td>\n",
       "      <td>8</td>\n",
       "      <td>10</td>\n",
       "      <td>NaN</td>\n",
       "      <td>NaN</td>\n",
       "      <td>NaN</td>\n",
       "      <td>NaN</td>\n",
       "      <td>NaN</td>\n",
       "    </tr>\n",
       "    <tr>\n",
       "      <th>1</th>\n",
       "      <td>1</td>\n",
       "      <td>3</td>\n",
       "      <td>5</td>\n",
       "      <td>7</td>\n",
       "      <td>9</td>\n",
       "      <td>NaN</td>\n",
       "      <td>NaN</td>\n",
       "      <td>NaN</td>\n",
       "      <td>NaN</td>\n",
       "      <td>NaN</td>\n",
       "    </tr>\n",
       "    <tr>\n",
       "      <th>2</th>\n",
       "      <td>3</td>\n",
       "      <td>6</td>\n",
       "      <td>9</td>\n",
       "      <td>12</td>\n",
       "      <td>15</td>\n",
       "      <td>NaN</td>\n",
       "      <td>NaN</td>\n",
       "      <td>NaN</td>\n",
       "      <td>NaN</td>\n",
       "      <td>NaN</td>\n",
       "    </tr>\n",
       "    <tr>\n",
       "      <th>3</th>\n",
       "      <td>1</td>\n",
       "      <td>2</td>\n",
       "      <td>3</td>\n",
       "      <td>4</td>\n",
       "      <td>5</td>\n",
       "      <td>6.0</td>\n",
       "      <td>7.0</td>\n",
       "      <td>8.0</td>\n",
       "      <td>9.0</td>\n",
       "      <td>10.0</td>\n",
       "    </tr>\n",
       "  </tbody>\n",
       "</table>\n",
       "</div>"
      ],
      "text/plain": [
       "   0  1  2   3   4    5    6    7    8     9\n",
       "0  2  4  6   8  10  NaN  NaN  NaN  NaN   NaN\n",
       "1  1  3  5   7   9  NaN  NaN  NaN  NaN   NaN\n",
       "2  3  6  9  12  15  NaN  NaN  NaN  NaN   NaN\n",
       "3  1  2  3   4   5  6.0  7.0  8.0  9.0  10.0"
      ]
     },
     "execution_count": 72,
     "metadata": {},
     "output_type": "execute_result"
    }
   ],
   "source": [
    "even = {2,4,6,8,10}\n",
    "odd = {1,3,5,7,9}\n",
    "byThree  = {3,6,9,12,15}\n",
    "numbers = {1,2,3,4,5,6,7,8,9,10}\n",
    "\n",
    "pd.DataFrame([even, odd, byThree, numbers])"
   ]
  },
  {
   "cell_type": "code",
   "execution_count": 104,
   "metadata": {},
   "outputs": [],
   "source": [
    "person = {'name': 'Frank',\n",
    "          'age':56,\n",
    "          'height': 12}"
   ]
  },
  {
   "cell_type": "code",
   "execution_count": 105,
   "metadata": {},
   "outputs": [
    {
     "data": {
      "text/plain": [
       "{'name': 'Frank', 'age': 56, 'height': 12}"
      ]
     },
     "execution_count": 105,
     "metadata": {},
     "output_type": "execute_result"
    }
   ],
   "source": [
    "person"
   ]
  },
  {
   "cell_type": "code",
   "execution_count": 139,
   "metadata": {},
   "outputs": [],
   "source": [
    "df = pd.DataFrame(list(person.items())) "
   ]
  },
  {
   "cell_type": "code",
   "execution_count": 140,
   "metadata": {},
   "outputs": [],
   "source": [
    "df = df.transpose()"
   ]
  },
  {
   "cell_type": "code",
   "execution_count": null,
   "metadata": {},
   "outputs": [],
   "source": []
  },
  {
   "cell_type": "code",
   "execution_count": 143,
   "metadata": {},
   "outputs": [
    {
     "data": {
      "text/html": [
       "<div>\n",
       "<style scoped>\n",
       "    .dataframe tbody tr th:only-of-type {\n",
       "        vertical-align: middle;\n",
       "    }\n",
       "\n",
       "    .dataframe tbody tr th {\n",
       "        vertical-align: top;\n",
       "    }\n",
       "\n",
       "    .dataframe thead th {\n",
       "        text-align: right;\n",
       "    }\n",
       "</style>\n",
       "<table border=\"1\" class=\"dataframe\">\n",
       "  <thead>\n",
       "    <tr style=\"text-align: right;\">\n",
       "      <th></th>\n",
       "      <th>name</th>\n",
       "      <th>age</th>\n",
       "      <th>height</th>\n",
       "    </tr>\n",
       "  </thead>\n",
       "  <tbody>\n",
       "    <tr>\n",
       "      <th>1</th>\n",
       "      <td>Frank</td>\n",
       "      <td>56</td>\n",
       "      <td>12</td>\n",
       "    </tr>\n",
       "  </tbody>\n",
       "</table>\n",
       "</div>"
      ],
      "text/plain": [
       "0   name age height\n",
       "1  Frank  56     12"
      ]
     },
     "execution_count": 143,
     "metadata": {},
     "output_type": "execute_result"
    }
   ],
   "source": [
    "# Create a new variable called 'new_header' from the first row of \n",
    "# the dataset\n",
    "# This calls the first row for the header\n",
    "new_header = df.iloc[0] \n",
    "# take the rest of your data minus the header row\n",
    "df = df[1:] \n",
    "# set the header row as the df header\n",
    "df.columns = new_header \n",
    "# Lets see the 5 first rows of the new dataset\n",
    "df.head()"
   ]
  },
  {
   "cell_type": "markdown",
   "metadata": {},
   "source": [
    "# EXERCISE 2"
   ]
  },
  {
   "cell_type": "markdown",
   "metadata": {},
   "source": [
    "<pre>Import the following .csv filePreview the document into an appropriate data structure in pandas. Using the functions available in pandas and NumPy (where they are more appropriate) output answers to the following questions:\n",
    "\n",
    "What were the sales for P2 and B8 in Nov-18, Feb-18 and Mar-19?\n",
    "In the third quarter (Oct-18 to Dec-18) what were the sales figures for London (L3 & 2) and what was the monthly percentage increase?\n",
    "What were the top three months for New York (N6 and N4) and in which stores did they occur?\n",
    "What was the overall lowest sales figure in which store and which month?"
   ]
  },
  {
   "cell_type": "code",
   "execution_count": 396,
   "metadata": {},
   "outputs": [],
   "source": [
    "df = pd.read_csv(\"SalesData 1.csv\")"
   ]
  },
  {
   "cell_type": "code",
   "execution_count": 397,
   "metadata": {},
   "outputs": [],
   "source": [
    "df[\"Store ID\"] = df[\"Unnamed: 0\"]"
   ]
  },
  {
   "cell_type": "code",
   "execution_count": 398,
   "metadata": {},
   "outputs": [],
   "source": [
    "df = df[[\"Store ID\",\"Apr-18\",\"May-18\",\"Jun-18\",\"Jul-18\",\"Aug-18\",\"Sep-18\",\"Oct-18\",\"Nov-18\",\"Dec-18\",\"Jan-19\",\"Feb-19\",\"Mar-19\"]]"
   ]
  },
  {
   "cell_type": "code",
   "execution_count": 399,
   "metadata": {},
   "outputs": [
    {
     "data": {
      "text/html": [
       "<div>\n",
       "<style scoped>\n",
       "    .dataframe tbody tr th:only-of-type {\n",
       "        vertical-align: middle;\n",
       "    }\n",
       "\n",
       "    .dataframe tbody tr th {\n",
       "        vertical-align: top;\n",
       "    }\n",
       "\n",
       "    .dataframe thead th {\n",
       "        text-align: right;\n",
       "    }\n",
       "</style>\n",
       "<table border=\"1\" class=\"dataframe\">\n",
       "  <thead>\n",
       "    <tr style=\"text-align: right;\">\n",
       "      <th></th>\n",
       "      <th>Apr-18</th>\n",
       "      <th>May-18</th>\n",
       "      <th>Jun-18</th>\n",
       "      <th>Jul-18</th>\n",
       "      <th>Aug-18</th>\n",
       "      <th>Sep-18</th>\n",
       "      <th>Oct-18</th>\n",
       "      <th>Nov-18</th>\n",
       "      <th>Dec-18</th>\n",
       "      <th>Jan-19</th>\n",
       "      <th>Feb-19</th>\n",
       "      <th>Mar-19</th>\n",
       "    </tr>\n",
       "    <tr>\n",
       "      <th>Store ID</th>\n",
       "      <th></th>\n",
       "      <th></th>\n",
       "      <th></th>\n",
       "      <th></th>\n",
       "      <th></th>\n",
       "      <th></th>\n",
       "      <th></th>\n",
       "      <th></th>\n",
       "      <th></th>\n",
       "      <th></th>\n",
       "      <th></th>\n",
       "      <th></th>\n",
       "    </tr>\n",
       "  </thead>\n",
       "  <tbody>\n",
       "    <tr>\n",
       "      <th>L3</th>\n",
       "      <td>390</td>\n",
       "      <td>345</td>\n",
       "      <td>379</td>\n",
       "      <td>353</td>\n",
       "      <td>365</td>\n",
       "      <td>326</td>\n",
       "      <td>363</td>\n",
       "      <td>459</td>\n",
       "      <td>539</td>\n",
       "      <td>474</td>\n",
       "      <td>340</td>\n",
       "      <td>343</td>\n",
       "    </tr>\n",
       "    <tr>\n",
       "      <th>L1</th>\n",
       "      <td>392</td>\n",
       "      <td>377</td>\n",
       "      <td>347</td>\n",
       "      <td>395</td>\n",
       "      <td>330</td>\n",
       "      <td>332</td>\n",
       "      <td>340</td>\n",
       "      <td>446</td>\n",
       "      <td>573</td>\n",
       "      <td>464</td>\n",
       "      <td>223</td>\n",
       "      <td>216</td>\n",
       "    </tr>\n",
       "    <tr>\n",
       "      <th>P2</th>\n",
       "      <td>250</td>\n",
       "      <td>270</td>\n",
       "      <td>300</td>\n",
       "      <td>398</td>\n",
       "      <td>376</td>\n",
       "      <td>382</td>\n",
       "      <td>306</td>\n",
       "      <td>489</td>\n",
       "      <td>552</td>\n",
       "      <td>488</td>\n",
       "      <td>298</td>\n",
       "      <td>269</td>\n",
       "    </tr>\n",
       "    <tr>\n",
       "      <th>N6</th>\n",
       "      <td>460</td>\n",
       "      <td>480</td>\n",
       "      <td>450</td>\n",
       "      <td>310</td>\n",
       "      <td>392</td>\n",
       "      <td>383</td>\n",
       "      <td>314</td>\n",
       "      <td>402</td>\n",
       "      <td>640</td>\n",
       "      <td>495</td>\n",
       "      <td>215</td>\n",
       "      <td>243</td>\n",
       "    </tr>\n",
       "    <tr>\n",
       "      <th>N4</th>\n",
       "      <td>460</td>\n",
       "      <td>480</td>\n",
       "      <td>450</td>\n",
       "      <td>387</td>\n",
       "      <td>388</td>\n",
       "      <td>320</td>\n",
       "      <td>337</td>\n",
       "      <td>478</td>\n",
       "      <td>676</td>\n",
       "      <td>408</td>\n",
       "      <td>338</td>\n",
       "      <td>263</td>\n",
       "    </tr>\n",
       "    <tr>\n",
       "      <th>B8</th>\n",
       "      <td>470</td>\n",
       "      <td>510</td>\n",
       "      <td>360</td>\n",
       "      <td>472</td>\n",
       "      <td>423</td>\n",
       "      <td>385</td>\n",
       "      <td>353</td>\n",
       "      <td>464</td>\n",
       "      <td>598</td>\n",
       "      <td>419</td>\n",
       "      <td>459</td>\n",
       "      <td>659</td>\n",
       "    </tr>\n",
       "  </tbody>\n",
       "</table>\n",
       "</div>"
      ],
      "text/plain": [
       "          Apr-18  May-18  Jun-18  Jul-18  Aug-18  Sep-18  Oct-18  Nov-18  \\\n",
       "Store ID                                                                   \n",
       "L3           390     345     379     353     365     326     363     459   \n",
       "L1           392     377     347     395     330     332     340     446   \n",
       "P2           250     270     300     398     376     382     306     489   \n",
       "N6           460     480     450     310     392     383     314     402   \n",
       "N4           460     480     450     387     388     320     337     478   \n",
       "B8           470     510     360     472     423     385     353     464   \n",
       "\n",
       "          Dec-18  Jan-19  Feb-19  Mar-19  \n",
       "Store ID                                  \n",
       "L3           539     474     340     343  \n",
       "L1           573     464     223     216  \n",
       "P2           552     488     298     269  \n",
       "N6           640     495     215     243  \n",
       "N4           676     408     338     263  \n",
       "B8           598     419     459     659  "
      ]
     },
     "execution_count": 399,
     "metadata": {},
     "output_type": "execute_result"
    }
   ],
   "source": [
    "df.set_index(\"Store ID\", inplace=False)"
   ]
  },
  {
   "cell_type": "code",
   "execution_count": 400,
   "metadata": {},
   "outputs": [
    {
     "data": {
      "text/html": [
       "<div>\n",
       "<style scoped>\n",
       "    .dataframe tbody tr th:only-of-type {\n",
       "        vertical-align: middle;\n",
       "    }\n",
       "\n",
       "    .dataframe tbody tr th {\n",
       "        vertical-align: top;\n",
       "    }\n",
       "\n",
       "    .dataframe thead th {\n",
       "        text-align: right;\n",
       "    }\n",
       "</style>\n",
       "<table border=\"1\" class=\"dataframe\">\n",
       "  <thead>\n",
       "    <tr style=\"text-align: right;\">\n",
       "      <th></th>\n",
       "      <th>Nov-18</th>\n",
       "      <th>Feb-19</th>\n",
       "      <th>Mar-19</th>\n",
       "    </tr>\n",
       "  </thead>\n",
       "  <tbody>\n",
       "    <tr>\n",
       "      <th>2</th>\n",
       "      <td>489</td>\n",
       "      <td>298</td>\n",
       "      <td>269</td>\n",
       "    </tr>\n",
       "    <tr>\n",
       "      <th>5</th>\n",
       "      <td>464</td>\n",
       "      <td>459</td>\n",
       "      <td>659</td>\n",
       "    </tr>\n",
       "  </tbody>\n",
       "</table>\n",
       "</div>"
      ],
      "text/plain": [
       "   Nov-18  Feb-19  Mar-19\n",
       "2     489     298     269\n",
       "5     464     459     659"
      ]
     },
     "execution_count": 400,
     "metadata": {},
     "output_type": "execute_result"
    }
   ],
   "source": [
    "# a\n",
    "df.loc[[2,5]][[\"Nov-18\",\"Feb-19\",\"Mar-19\"]]"
   ]
  },
  {
   "cell_type": "code",
   "execution_count": 401,
   "metadata": {},
   "outputs": [],
   "source": [
    "# b\n",
    "thirdQ = list(df[[\"Oct-18\",\"Nov-18\",\"Dec-18\"]])"
   ]
  },
  {
   "cell_type": "code",
   "execution_count": 402,
   "metadata": {},
   "outputs": [
    {
     "data": {
      "text/plain": [
       "['Oct-18', 'Nov-18', 'Dec-18']"
      ]
     },
     "execution_count": 402,
     "metadata": {},
     "output_type": "execute_result"
    }
   ],
   "source": [
    "thirdQ"
   ]
  },
  {
   "cell_type": "code",
   "execution_count": 403,
   "metadata": {},
   "outputs": [],
   "source": [
    "London = df.loc[df[\"Store ID\"].str.contains(\"L\")]"
   ]
  },
  {
   "cell_type": "code",
   "execution_count": 404,
   "metadata": {},
   "outputs": [
    {
     "data": {
      "text/html": [
       "<div>\n",
       "<style scoped>\n",
       "    .dataframe tbody tr th:only-of-type {\n",
       "        vertical-align: middle;\n",
       "    }\n",
       "\n",
       "    .dataframe tbody tr th {\n",
       "        vertical-align: top;\n",
       "    }\n",
       "\n",
       "    .dataframe thead th {\n",
       "        text-align: right;\n",
       "    }\n",
       "</style>\n",
       "<table border=\"1\" class=\"dataframe\">\n",
       "  <thead>\n",
       "    <tr style=\"text-align: right;\">\n",
       "      <th></th>\n",
       "      <th>Oct-18</th>\n",
       "      <th>Nov-18</th>\n",
       "      <th>Dec-18</th>\n",
       "    </tr>\n",
       "  </thead>\n",
       "  <tbody>\n",
       "    <tr>\n",
       "      <th>0</th>\n",
       "      <td>363</td>\n",
       "      <td>459</td>\n",
       "      <td>539</td>\n",
       "    </tr>\n",
       "    <tr>\n",
       "      <th>1</th>\n",
       "      <td>340</td>\n",
       "      <td>446</td>\n",
       "      <td>573</td>\n",
       "    </tr>\n",
       "  </tbody>\n",
       "</table>\n",
       "</div>"
      ],
      "text/plain": [
       "   Oct-18  Nov-18  Dec-18\n",
       "0     363     459     539\n",
       "1     340     446     573"
      ]
     },
     "execution_count": 404,
     "metadata": {},
     "output_type": "execute_result"
    }
   ],
   "source": [
    "London[thirdQ]"
   ]
  },
  {
   "cell_type": "code",
   "execution_count": 405,
   "metadata": {},
   "outputs": [
    {
     "data": {
      "text/html": [
       "<div>\n",
       "<style scoped>\n",
       "    .dataframe tbody tr th:only-of-type {\n",
       "        vertical-align: middle;\n",
       "    }\n",
       "\n",
       "    .dataframe tbody tr th {\n",
       "        vertical-align: top;\n",
       "    }\n",
       "\n",
       "    .dataframe thead th {\n",
       "        text-align: right;\n",
       "    }\n",
       "</style>\n",
       "<table border=\"1\" class=\"dataframe\">\n",
       "  <thead>\n",
       "    <tr style=\"text-align: right;\">\n",
       "      <th></th>\n",
       "      <th>Oct-18</th>\n",
       "      <th>Nov-18</th>\n",
       "      <th>Dec-18</th>\n",
       "    </tr>\n",
       "  </thead>\n",
       "  <tbody>\n",
       "    <tr>\n",
       "      <th>0</th>\n",
       "      <td>NaN</td>\n",
       "      <td>26.446281</td>\n",
       "      <td>17.429194</td>\n",
       "    </tr>\n",
       "    <tr>\n",
       "      <th>1</th>\n",
       "      <td>NaN</td>\n",
       "      <td>31.176471</td>\n",
       "      <td>28.475336</td>\n",
       "    </tr>\n",
       "  </tbody>\n",
       "</table>\n",
       "</div>"
      ],
      "text/plain": [
       "   Oct-18     Nov-18     Dec-18\n",
       "0     NaN  26.446281  17.429194\n",
       "1     NaN  31.176471  28.475336"
      ]
     },
     "execution_count": 405,
     "metadata": {},
     "output_type": "execute_result"
    }
   ],
   "source": [
    "London[thirdQ].pct_change(axis=1).multiply(100)"
   ]
  },
  {
   "cell_type": "code",
   "execution_count": 406,
   "metadata": {},
   "outputs": [
    {
     "data": {
      "text/html": [
       "<div>\n",
       "<style scoped>\n",
       "    .dataframe tbody tr th:only-of-type {\n",
       "        vertical-align: middle;\n",
       "    }\n",
       "\n",
       "    .dataframe tbody tr th {\n",
       "        vertical-align: top;\n",
       "    }\n",
       "\n",
       "    .dataframe thead th {\n",
       "        text-align: right;\n",
       "    }\n",
       "</style>\n",
       "<table border=\"1\" class=\"dataframe\">\n",
       "  <thead>\n",
       "    <tr style=\"text-align: right;\">\n",
       "      <th></th>\n",
       "      <th>Store ID</th>\n",
       "      <th>Apr-18</th>\n",
       "      <th>May-18</th>\n",
       "      <th>Jun-18</th>\n",
       "      <th>Jul-18</th>\n",
       "      <th>Aug-18</th>\n",
       "      <th>Sep-18</th>\n",
       "      <th>Oct-18</th>\n",
       "      <th>Nov-18</th>\n",
       "      <th>Dec-18</th>\n",
       "      <th>Jan-19</th>\n",
       "      <th>Feb-19</th>\n",
       "      <th>Mar-19</th>\n",
       "    </tr>\n",
       "  </thead>\n",
       "  <tbody>\n",
       "    <tr>\n",
       "      <th>0</th>\n",
       "      <td>L3</td>\n",
       "      <td>390</td>\n",
       "      <td>345</td>\n",
       "      <td>379</td>\n",
       "      <td>353</td>\n",
       "      <td>365</td>\n",
       "      <td>326</td>\n",
       "      <td>363</td>\n",
       "      <td>459</td>\n",
       "      <td>539</td>\n",
       "      <td>474</td>\n",
       "      <td>340</td>\n",
       "      <td>343</td>\n",
       "    </tr>\n",
       "    <tr>\n",
       "      <th>1</th>\n",
       "      <td>L1</td>\n",
       "      <td>392</td>\n",
       "      <td>377</td>\n",
       "      <td>347</td>\n",
       "      <td>395</td>\n",
       "      <td>330</td>\n",
       "      <td>332</td>\n",
       "      <td>340</td>\n",
       "      <td>446</td>\n",
       "      <td>573</td>\n",
       "      <td>464</td>\n",
       "      <td>223</td>\n",
       "      <td>216</td>\n",
       "    </tr>\n",
       "    <tr>\n",
       "      <th>2</th>\n",
       "      <td>P2</td>\n",
       "      <td>250</td>\n",
       "      <td>270</td>\n",
       "      <td>300</td>\n",
       "      <td>398</td>\n",
       "      <td>376</td>\n",
       "      <td>382</td>\n",
       "      <td>306</td>\n",
       "      <td>489</td>\n",
       "      <td>552</td>\n",
       "      <td>488</td>\n",
       "      <td>298</td>\n",
       "      <td>269</td>\n",
       "    </tr>\n",
       "    <tr>\n",
       "      <th>3</th>\n",
       "      <td>N6</td>\n",
       "      <td>460</td>\n",
       "      <td>480</td>\n",
       "      <td>450</td>\n",
       "      <td>310</td>\n",
       "      <td>392</td>\n",
       "      <td>383</td>\n",
       "      <td>314</td>\n",
       "      <td>402</td>\n",
       "      <td>640</td>\n",
       "      <td>495</td>\n",
       "      <td>215</td>\n",
       "      <td>243</td>\n",
       "    </tr>\n",
       "    <tr>\n",
       "      <th>4</th>\n",
       "      <td>N4</td>\n",
       "      <td>460</td>\n",
       "      <td>480</td>\n",
       "      <td>450</td>\n",
       "      <td>387</td>\n",
       "      <td>388</td>\n",
       "      <td>320</td>\n",
       "      <td>337</td>\n",
       "      <td>478</td>\n",
       "      <td>676</td>\n",
       "      <td>408</td>\n",
       "      <td>338</td>\n",
       "      <td>263</td>\n",
       "    </tr>\n",
       "    <tr>\n",
       "      <th>5</th>\n",
       "      <td>B8</td>\n",
       "      <td>470</td>\n",
       "      <td>510</td>\n",
       "      <td>360</td>\n",
       "      <td>472</td>\n",
       "      <td>423</td>\n",
       "      <td>385</td>\n",
       "      <td>353</td>\n",
       "      <td>464</td>\n",
       "      <td>598</td>\n",
       "      <td>419</td>\n",
       "      <td>459</td>\n",
       "      <td>659</td>\n",
       "    </tr>\n",
       "  </tbody>\n",
       "</table>\n",
       "</div>"
      ],
      "text/plain": [
       "  Store ID  Apr-18  May-18  Jun-18  Jul-18  Aug-18  Sep-18  Oct-18  Nov-18  \\\n",
       "0       L3     390     345     379     353     365     326     363     459   \n",
       "1       L1     392     377     347     395     330     332     340     446   \n",
       "2       P2     250     270     300     398     376     382     306     489   \n",
       "3       N6     460     480     450     310     392     383     314     402   \n",
       "4       N4     460     480     450     387     388     320     337     478   \n",
       "5       B8     470     510     360     472     423     385     353     464   \n",
       "\n",
       "   Dec-18  Jan-19  Feb-19  Mar-19  \n",
       "0     539     474     340     343  \n",
       "1     573     464     223     216  \n",
       "2     552     488     298     269  \n",
       "3     640     495     215     243  \n",
       "4     676     408     338     263  \n",
       "5     598     419     459     659  "
      ]
     },
     "execution_count": 406,
     "metadata": {},
     "output_type": "execute_result"
    }
   ],
   "source": [
    "# c\n",
    "df"
   ]
  },
  {
   "cell_type": "code",
   "execution_count": 407,
   "metadata": {},
   "outputs": [],
   "source": [
    "df_trans = df"
   ]
  },
  {
   "cell_type": "code",
   "execution_count": 408,
   "metadata": {},
   "outputs": [
    {
     "data": {
      "text/plain": [
       "RangeIndex(start=0, stop=6, step=1)"
      ]
     },
     "execution_count": 408,
     "metadata": {},
     "output_type": "execute_result"
    }
   ],
   "source": [
    "df.index"
   ]
  },
  {
   "cell_type": "code",
   "execution_count": 409,
   "metadata": {},
   "outputs": [],
   "source": [
    "df_trans.set_index(\"Store ID\", inplace=True)"
   ]
  },
  {
   "cell_type": "code",
   "execution_count": 410,
   "metadata": {},
   "outputs": [],
   "source": [
    "df_trans = df.transpose()"
   ]
  },
  {
   "cell_type": "code",
   "execution_count": 411,
   "metadata": {},
   "outputs": [
    {
     "data": {
      "text/html": [
       "<div>\n",
       "<style scoped>\n",
       "    .dataframe tbody tr th:only-of-type {\n",
       "        vertical-align: middle;\n",
       "    }\n",
       "\n",
       "    .dataframe tbody tr th {\n",
       "        vertical-align: top;\n",
       "    }\n",
       "\n",
       "    .dataframe thead th {\n",
       "        text-align: right;\n",
       "    }\n",
       "</style>\n",
       "<table border=\"1\" class=\"dataframe\">\n",
       "  <thead>\n",
       "    <tr style=\"text-align: right;\">\n",
       "      <th>Store ID</th>\n",
       "      <th>L3</th>\n",
       "      <th>L1</th>\n",
       "      <th>P2</th>\n",
       "      <th>N6</th>\n",
       "      <th>N4</th>\n",
       "      <th>B8</th>\n",
       "    </tr>\n",
       "  </thead>\n",
       "  <tbody>\n",
       "    <tr>\n",
       "      <th>Apr-18</th>\n",
       "      <td>390</td>\n",
       "      <td>392</td>\n",
       "      <td>250</td>\n",
       "      <td>460</td>\n",
       "      <td>460</td>\n",
       "      <td>470</td>\n",
       "    </tr>\n",
       "    <tr>\n",
       "      <th>May-18</th>\n",
       "      <td>345</td>\n",
       "      <td>377</td>\n",
       "      <td>270</td>\n",
       "      <td>480</td>\n",
       "      <td>480</td>\n",
       "      <td>510</td>\n",
       "    </tr>\n",
       "    <tr>\n",
       "      <th>Jun-18</th>\n",
       "      <td>379</td>\n",
       "      <td>347</td>\n",
       "      <td>300</td>\n",
       "      <td>450</td>\n",
       "      <td>450</td>\n",
       "      <td>360</td>\n",
       "    </tr>\n",
       "    <tr>\n",
       "      <th>Jul-18</th>\n",
       "      <td>353</td>\n",
       "      <td>395</td>\n",
       "      <td>398</td>\n",
       "      <td>310</td>\n",
       "      <td>387</td>\n",
       "      <td>472</td>\n",
       "    </tr>\n",
       "    <tr>\n",
       "      <th>Aug-18</th>\n",
       "      <td>365</td>\n",
       "      <td>330</td>\n",
       "      <td>376</td>\n",
       "      <td>392</td>\n",
       "      <td>388</td>\n",
       "      <td>423</td>\n",
       "    </tr>\n",
       "    <tr>\n",
       "      <th>Sep-18</th>\n",
       "      <td>326</td>\n",
       "      <td>332</td>\n",
       "      <td>382</td>\n",
       "      <td>383</td>\n",
       "      <td>320</td>\n",
       "      <td>385</td>\n",
       "    </tr>\n",
       "    <tr>\n",
       "      <th>Oct-18</th>\n",
       "      <td>363</td>\n",
       "      <td>340</td>\n",
       "      <td>306</td>\n",
       "      <td>314</td>\n",
       "      <td>337</td>\n",
       "      <td>353</td>\n",
       "    </tr>\n",
       "    <tr>\n",
       "      <th>Nov-18</th>\n",
       "      <td>459</td>\n",
       "      <td>446</td>\n",
       "      <td>489</td>\n",
       "      <td>402</td>\n",
       "      <td>478</td>\n",
       "      <td>464</td>\n",
       "    </tr>\n",
       "    <tr>\n",
       "      <th>Dec-18</th>\n",
       "      <td>539</td>\n",
       "      <td>573</td>\n",
       "      <td>552</td>\n",
       "      <td>640</td>\n",
       "      <td>676</td>\n",
       "      <td>598</td>\n",
       "    </tr>\n",
       "    <tr>\n",
       "      <th>Jan-19</th>\n",
       "      <td>474</td>\n",
       "      <td>464</td>\n",
       "      <td>488</td>\n",
       "      <td>495</td>\n",
       "      <td>408</td>\n",
       "      <td>419</td>\n",
       "    </tr>\n",
       "    <tr>\n",
       "      <th>Feb-19</th>\n",
       "      <td>340</td>\n",
       "      <td>223</td>\n",
       "      <td>298</td>\n",
       "      <td>215</td>\n",
       "      <td>338</td>\n",
       "      <td>459</td>\n",
       "    </tr>\n",
       "    <tr>\n",
       "      <th>Mar-19</th>\n",
       "      <td>343</td>\n",
       "      <td>216</td>\n",
       "      <td>269</td>\n",
       "      <td>243</td>\n",
       "      <td>263</td>\n",
       "      <td>659</td>\n",
       "    </tr>\n",
       "  </tbody>\n",
       "</table>\n",
       "</div>"
      ],
      "text/plain": [
       "Store ID   L3   L1   P2   N6   N4   B8\n",
       "Apr-18    390  392  250  460  460  470\n",
       "May-18    345  377  270  480  480  510\n",
       "Jun-18    379  347  300  450  450  360\n",
       "Jul-18    353  395  398  310  387  472\n",
       "Aug-18    365  330  376  392  388  423\n",
       "Sep-18    326  332  382  383  320  385\n",
       "Oct-18    363  340  306  314  337  353\n",
       "Nov-18    459  446  489  402  478  464\n",
       "Dec-18    539  573  552  640  676  598\n",
       "Jan-19    474  464  488  495  408  419\n",
       "Feb-19    340  223  298  215  338  459\n",
       "Mar-19    343  216  269  243  263  659"
      ]
     },
     "execution_count": 411,
     "metadata": {},
     "output_type": "execute_result"
    }
   ],
   "source": [
    "df_trans"
   ]
  },
  {
   "cell_type": "code",
   "execution_count": 412,
   "metadata": {},
   "outputs": [],
   "source": [
    "df_trans.sort_values(\"N6\", ascending=False, inplace=True)"
   ]
  },
  {
   "cell_type": "code",
   "execution_count": 413,
   "metadata": {},
   "outputs": [],
   "source": [
    "best_N6 = dict(df_trans.iloc[:3][\"N6\"])"
   ]
  },
  {
   "cell_type": "code",
   "execution_count": 414,
   "metadata": {},
   "outputs": [
    {
     "data": {
      "text/plain": [
       "{'Dec-18': 640, 'Jan-19': 495, 'May-18': 480}"
      ]
     },
     "execution_count": 414,
     "metadata": {},
     "output_type": "execute_result"
    }
   ],
   "source": [
    "best_N6"
   ]
  },
  {
   "cell_type": "code",
   "execution_count": 415,
   "metadata": {},
   "outputs": [],
   "source": [
    "df_trans.sort_values(\"N4\", ascending=False, inplace=True)"
   ]
  },
  {
   "cell_type": "code",
   "execution_count": 416,
   "metadata": {},
   "outputs": [],
   "source": [
    "best_N4 = dict(df_trans.iloc[:3][\"N4\"])"
   ]
  },
  {
   "cell_type": "code",
   "execution_count": 450,
   "metadata": {},
   "outputs": [
    {
     "data": {
      "text/plain": [
       "{'Dec-18': 676, 'May-18': 480, 'Nov-18': 478}"
      ]
     },
     "execution_count": 450,
     "metadata": {},
     "output_type": "execute_result"
    }
   ],
   "source": [
    "best_N4"
   ]
  },
  {
   "cell_type": "code",
   "execution_count": 451,
   "metadata": {},
   "outputs": [],
   "source": [
    "# d \n",
    "minimum_val = df_trans.values.flatten()"
   ]
  },
  {
   "cell_type": "code",
   "execution_count": 452,
   "metadata": {},
   "outputs": [],
   "source": [
    "minimum_val = minimum_val.min()"
   ]
  },
  {
   "cell_type": "code",
   "execution_count": 453,
   "metadata": {},
   "outputs": [],
   "source": [
    "# taken from https://thispointer.com/python-find-indexes-of-an-element-in-pandas-dataframe/\n",
    "def getIndexes(dfObj, value):\n",
    "    listOfPos = list([value])\n",
    "    # Get bool dataframe with True at positions where the given value exists\n",
    "    result = dfObj.isin([value])\n",
    "    # Get list of columns that contains the value\n",
    "    seriesObj = result.any()\n",
    "    columnNames = list(seriesObj[seriesObj == True].index)\n",
    "    # Iterate over list of columns and fetch the rows indexes where value exists\n",
    "    for col in columnNames:\n",
    "        rows = list(result[col][result[col] == True].index)\n",
    "        for row in rows:\n",
    "            listOfPos.append((row, col))\n",
    "    # Return a list of tuples indicating the positions of value in the dataframe\n",
    "    return listOfPos"
   ]
  },
  {
   "cell_type": "code",
   "execution_count": 454,
   "metadata": {},
   "outputs": [
    {
     "data": {
      "text/plain": [
       "[215, ('Feb-19', 'N6')]"
      ]
     },
     "execution_count": 454,
     "metadata": {},
     "output_type": "execute_result"
    }
   ],
   "source": [
    "getIndexes(df_trans, minimum_val)"
   ]
  },
  {
   "cell_type": "markdown",
   "metadata": {},
   "source": [
    "# Exercise 3"
   ]
  },
  {
   "cell_type": "markdown",
   "metadata": {},
   "source": [
    "Using the data set from exercise 2, above, create a new data table, including headings, that gives the percentage increase for each month, based on the stores average for the year. From this ascertain:\n",
    "\n",
    "Which store had the largest and smallest increase and in which months did they occur?\n",
    "Across all the stores which months showed the smallest average increase and the largest average increase?"
   ]
  },
  {
   "cell_type": "code",
   "execution_count": 495,
   "metadata": {},
   "outputs": [],
   "source": [
    "new_df = df.transpose()"
   ]
  },
  {
   "cell_type": "code",
   "execution_count": 512,
   "metadata": {},
   "outputs": [],
   "source": [
    "dsc = new_df.describe()\n"
   ]
  },
  {
   "cell_type": "code",
   "execution_count": 513,
   "metadata": {},
   "outputs": [
    {
     "data": {
      "text/html": [
       "<div>\n",
       "<style scoped>\n",
       "    .dataframe tbody tr th:only-of-type {\n",
       "        vertical-align: middle;\n",
       "    }\n",
       "\n",
       "    .dataframe tbody tr th {\n",
       "        vertical-align: top;\n",
       "    }\n",
       "\n",
       "    .dataframe thead th {\n",
       "        text-align: right;\n",
       "    }\n",
       "</style>\n",
       "<table border=\"1\" class=\"dataframe\">\n",
       "  <thead>\n",
       "    <tr style=\"text-align: right;\">\n",
       "      <th>Store ID</th>\n",
       "      <th>L3</th>\n",
       "      <th>L1</th>\n",
       "      <th>P2</th>\n",
       "      <th>N6</th>\n",
       "      <th>N4</th>\n",
       "      <th>B8</th>\n",
       "      <th>Mean</th>\n",
       "    </tr>\n",
       "  </thead>\n",
       "  <tbody>\n",
       "    <tr>\n",
       "      <th>Apr-18</th>\n",
       "      <td>390</td>\n",
       "      <td>392</td>\n",
       "      <td>250</td>\n",
       "      <td>460</td>\n",
       "      <td>460</td>\n",
       "      <td>470</td>\n",
       "      <td>NaN</td>\n",
       "    </tr>\n",
       "    <tr>\n",
       "      <th>May-18</th>\n",
       "      <td>345</td>\n",
       "      <td>377</td>\n",
       "      <td>270</td>\n",
       "      <td>480</td>\n",
       "      <td>480</td>\n",
       "      <td>510</td>\n",
       "      <td>NaN</td>\n",
       "    </tr>\n",
       "    <tr>\n",
       "      <th>Jun-18</th>\n",
       "      <td>379</td>\n",
       "      <td>347</td>\n",
       "      <td>300</td>\n",
       "      <td>450</td>\n",
       "      <td>450</td>\n",
       "      <td>360</td>\n",
       "      <td>NaN</td>\n",
       "    </tr>\n",
       "    <tr>\n",
       "      <th>Jul-18</th>\n",
       "      <td>353</td>\n",
       "      <td>395</td>\n",
       "      <td>398</td>\n",
       "      <td>310</td>\n",
       "      <td>387</td>\n",
       "      <td>472</td>\n",
       "      <td>NaN</td>\n",
       "    </tr>\n",
       "    <tr>\n",
       "      <th>Aug-18</th>\n",
       "      <td>365</td>\n",
       "      <td>330</td>\n",
       "      <td>376</td>\n",
       "      <td>392</td>\n",
       "      <td>388</td>\n",
       "      <td>423</td>\n",
       "      <td>NaN</td>\n",
       "    </tr>\n",
       "    <tr>\n",
       "      <th>Sep-18</th>\n",
       "      <td>326</td>\n",
       "      <td>332</td>\n",
       "      <td>382</td>\n",
       "      <td>383</td>\n",
       "      <td>320</td>\n",
       "      <td>385</td>\n",
       "      <td>NaN</td>\n",
       "    </tr>\n",
       "    <tr>\n",
       "      <th>Oct-18</th>\n",
       "      <td>363</td>\n",
       "      <td>340</td>\n",
       "      <td>306</td>\n",
       "      <td>314</td>\n",
       "      <td>337</td>\n",
       "      <td>353</td>\n",
       "      <td>NaN</td>\n",
       "    </tr>\n",
       "    <tr>\n",
       "      <th>Nov-18</th>\n",
       "      <td>459</td>\n",
       "      <td>446</td>\n",
       "      <td>489</td>\n",
       "      <td>402</td>\n",
       "      <td>478</td>\n",
       "      <td>464</td>\n",
       "      <td>NaN</td>\n",
       "    </tr>\n",
       "    <tr>\n",
       "      <th>Dec-18</th>\n",
       "      <td>539</td>\n",
       "      <td>573</td>\n",
       "      <td>552</td>\n",
       "      <td>640</td>\n",
       "      <td>676</td>\n",
       "      <td>598</td>\n",
       "      <td>NaN</td>\n",
       "    </tr>\n",
       "    <tr>\n",
       "      <th>Jan-19</th>\n",
       "      <td>474</td>\n",
       "      <td>464</td>\n",
       "      <td>488</td>\n",
       "      <td>495</td>\n",
       "      <td>408</td>\n",
       "      <td>419</td>\n",
       "      <td>NaN</td>\n",
       "    </tr>\n",
       "    <tr>\n",
       "      <th>Feb-19</th>\n",
       "      <td>340</td>\n",
       "      <td>223</td>\n",
       "      <td>298</td>\n",
       "      <td>215</td>\n",
       "      <td>338</td>\n",
       "      <td>459</td>\n",
       "      <td>NaN</td>\n",
       "    </tr>\n",
       "    <tr>\n",
       "      <th>Mar-19</th>\n",
       "      <td>343</td>\n",
       "      <td>216</td>\n",
       "      <td>269</td>\n",
       "      <td>243</td>\n",
       "      <td>263</td>\n",
       "      <td>659</td>\n",
       "      <td>NaN</td>\n",
       "    </tr>\n",
       "  </tbody>\n",
       "</table>\n",
       "</div>"
      ],
      "text/plain": [
       "Store ID   L3   L1   P2   N6   N4   B8  Mean\n",
       "Apr-18    390  392  250  460  460  470   NaN\n",
       "May-18    345  377  270  480  480  510   NaN\n",
       "Jun-18    379  347  300  450  450  360   NaN\n",
       "Jul-18    353  395  398  310  387  472   NaN\n",
       "Aug-18    365  330  376  392  388  423   NaN\n",
       "Sep-18    326  332  382  383  320  385   NaN\n",
       "Oct-18    363  340  306  314  337  353   NaN\n",
       "Nov-18    459  446  489  402  478  464   NaN\n",
       "Dec-18    539  573  552  640  676  598   NaN\n",
       "Jan-19    474  464  488  495  408  419   NaN\n",
       "Feb-19    340  223  298  215  338  459   NaN\n",
       "Mar-19    343  216  269  243  263  659   NaN"
      ]
     },
     "execution_count": 513,
     "metadata": {},
     "output_type": "execute_result"
    }
   ],
   "source": [
    "new_df"
   ]
  },
  {
   "cell_type": "code",
   "execution_count": 531,
   "metadata": {},
   "outputs": [],
   "source": [
    "mean = dsc.loc['mean'][0:]"
   ]
  },
  {
   "cell_type": "code",
   "execution_count": 540,
   "metadata": {},
   "outputs": [],
   "source": [
    "new_df = new_df.append(mean)"
   ]
  },
  {
   "cell_type": "code",
   "execution_count": 544,
   "metadata": {},
   "outputs": [],
   "source": [
    "new_df = new_df.drop(columns=\"Mean\")"
   ]
  },
  {
   "cell_type": "code",
   "execution_count": 545,
   "metadata": {},
   "outputs": [
    {
     "data": {
      "text/html": [
       "<div>\n",
       "<style scoped>\n",
       "    .dataframe tbody tr th:only-of-type {\n",
       "        vertical-align: middle;\n",
       "    }\n",
       "\n",
       "    .dataframe tbody tr th {\n",
       "        vertical-align: top;\n",
       "    }\n",
       "\n",
       "    .dataframe thead th {\n",
       "        text-align: right;\n",
       "    }\n",
       "</style>\n",
       "<table border=\"1\" class=\"dataframe\">\n",
       "  <thead>\n",
       "    <tr style=\"text-align: right;\">\n",
       "      <th>Store ID</th>\n",
       "      <th>L3</th>\n",
       "      <th>L1</th>\n",
       "      <th>P2</th>\n",
       "      <th>N6</th>\n",
       "      <th>N4</th>\n",
       "      <th>B8</th>\n",
       "    </tr>\n",
       "  </thead>\n",
       "  <tbody>\n",
       "    <tr>\n",
       "      <th>Apr-18</th>\n",
       "      <td>390.000000</td>\n",
       "      <td>392.000000</td>\n",
       "      <td>250.000000</td>\n",
       "      <td>460.000000</td>\n",
       "      <td>460.000000</td>\n",
       "      <td>470.000000</td>\n",
       "    </tr>\n",
       "    <tr>\n",
       "      <th>May-18</th>\n",
       "      <td>345.000000</td>\n",
       "      <td>377.000000</td>\n",
       "      <td>270.000000</td>\n",
       "      <td>480.000000</td>\n",
       "      <td>480.000000</td>\n",
       "      <td>510.000000</td>\n",
       "    </tr>\n",
       "    <tr>\n",
       "      <th>Jun-18</th>\n",
       "      <td>379.000000</td>\n",
       "      <td>347.000000</td>\n",
       "      <td>300.000000</td>\n",
       "      <td>450.000000</td>\n",
       "      <td>450.000000</td>\n",
       "      <td>360.000000</td>\n",
       "    </tr>\n",
       "    <tr>\n",
       "      <th>Jul-18</th>\n",
       "      <td>353.000000</td>\n",
       "      <td>395.000000</td>\n",
       "      <td>398.000000</td>\n",
       "      <td>310.000000</td>\n",
       "      <td>387.000000</td>\n",
       "      <td>472.000000</td>\n",
       "    </tr>\n",
       "    <tr>\n",
       "      <th>Aug-18</th>\n",
       "      <td>365.000000</td>\n",
       "      <td>330.000000</td>\n",
       "      <td>376.000000</td>\n",
       "      <td>392.000000</td>\n",
       "      <td>388.000000</td>\n",
       "      <td>423.000000</td>\n",
       "    </tr>\n",
       "    <tr>\n",
       "      <th>Sep-18</th>\n",
       "      <td>326.000000</td>\n",
       "      <td>332.000000</td>\n",
       "      <td>382.000000</td>\n",
       "      <td>383.000000</td>\n",
       "      <td>320.000000</td>\n",
       "      <td>385.000000</td>\n",
       "    </tr>\n",
       "    <tr>\n",
       "      <th>Oct-18</th>\n",
       "      <td>363.000000</td>\n",
       "      <td>340.000000</td>\n",
       "      <td>306.000000</td>\n",
       "      <td>314.000000</td>\n",
       "      <td>337.000000</td>\n",
       "      <td>353.000000</td>\n",
       "    </tr>\n",
       "    <tr>\n",
       "      <th>Nov-18</th>\n",
       "      <td>459.000000</td>\n",
       "      <td>446.000000</td>\n",
       "      <td>489.000000</td>\n",
       "      <td>402.000000</td>\n",
       "      <td>478.000000</td>\n",
       "      <td>464.000000</td>\n",
       "    </tr>\n",
       "    <tr>\n",
       "      <th>Dec-18</th>\n",
       "      <td>539.000000</td>\n",
       "      <td>573.000000</td>\n",
       "      <td>552.000000</td>\n",
       "      <td>640.000000</td>\n",
       "      <td>676.000000</td>\n",
       "      <td>598.000000</td>\n",
       "    </tr>\n",
       "    <tr>\n",
       "      <th>Jan-19</th>\n",
       "      <td>474.000000</td>\n",
       "      <td>464.000000</td>\n",
       "      <td>488.000000</td>\n",
       "      <td>495.000000</td>\n",
       "      <td>408.000000</td>\n",
       "      <td>419.000000</td>\n",
       "    </tr>\n",
       "    <tr>\n",
       "      <th>Feb-19</th>\n",
       "      <td>340.000000</td>\n",
       "      <td>223.000000</td>\n",
       "      <td>298.000000</td>\n",
       "      <td>215.000000</td>\n",
       "      <td>338.000000</td>\n",
       "      <td>459.000000</td>\n",
       "    </tr>\n",
       "    <tr>\n",
       "      <th>Mar-19</th>\n",
       "      <td>343.000000</td>\n",
       "      <td>216.000000</td>\n",
       "      <td>269.000000</td>\n",
       "      <td>243.000000</td>\n",
       "      <td>263.000000</td>\n",
       "      <td>659.000000</td>\n",
       "    </tr>\n",
       "    <tr>\n",
       "      <th>mean</th>\n",
       "      <td>389.666667</td>\n",
       "      <td>369.583333</td>\n",
       "      <td>364.833333</td>\n",
       "      <td>398.666667</td>\n",
       "      <td>415.416667</td>\n",
       "      <td>464.333333</td>\n",
       "    </tr>\n",
       "  </tbody>\n",
       "</table>\n",
       "</div>"
      ],
      "text/plain": [
       "Store ID          L3          L1          P2          N6          N4  \\\n",
       "Apr-18    390.000000  392.000000  250.000000  460.000000  460.000000   \n",
       "May-18    345.000000  377.000000  270.000000  480.000000  480.000000   \n",
       "Jun-18    379.000000  347.000000  300.000000  450.000000  450.000000   \n",
       "Jul-18    353.000000  395.000000  398.000000  310.000000  387.000000   \n",
       "Aug-18    365.000000  330.000000  376.000000  392.000000  388.000000   \n",
       "Sep-18    326.000000  332.000000  382.000000  383.000000  320.000000   \n",
       "Oct-18    363.000000  340.000000  306.000000  314.000000  337.000000   \n",
       "Nov-18    459.000000  446.000000  489.000000  402.000000  478.000000   \n",
       "Dec-18    539.000000  573.000000  552.000000  640.000000  676.000000   \n",
       "Jan-19    474.000000  464.000000  488.000000  495.000000  408.000000   \n",
       "Feb-19    340.000000  223.000000  298.000000  215.000000  338.000000   \n",
       "Mar-19    343.000000  216.000000  269.000000  243.000000  263.000000   \n",
       "mean      389.666667  369.583333  364.833333  398.666667  415.416667   \n",
       "\n",
       "Store ID          B8  \n",
       "Apr-18    470.000000  \n",
       "May-18    510.000000  \n",
       "Jun-18    360.000000  \n",
       "Jul-18    472.000000  \n",
       "Aug-18    423.000000  \n",
       "Sep-18    385.000000  \n",
       "Oct-18    353.000000  \n",
       "Nov-18    464.000000  \n",
       "Dec-18    598.000000  \n",
       "Jan-19    419.000000  \n",
       "Feb-19    459.000000  \n",
       "Mar-19    659.000000  \n",
       "mean      464.333333  "
      ]
     },
     "execution_count": 545,
     "metadata": {},
     "output_type": "execute_result"
    }
   ],
   "source": [
    "new_df"
   ]
  },
  {
   "cell_type": "code",
   "execution_count": 553,
   "metadata": {},
   "outputs": [],
   "source": [
    "new_index = [\"mean\",\"Apr-18\",\"May-18\",\"Jun-18\",\"Jul-18\",\"Aug-18\",\"Sep-18\",\"Oct-18\",\"Nov-18\",\"Dec-18\",\"Jan-19\",\"Feb-19\",\"Mar-19\"]"
   ]
  },
  {
   "cell_type": "code",
   "execution_count": 559,
   "metadata": {},
   "outputs": [],
   "source": [
    "new_df = new_df.reindex(new_index)"
   ]
  },
  {
   "cell_type": "markdown",
   "metadata": {},
   "source": [
    "### the percentage increase for each month, based on the stores average for the year. "
   ]
  },
  {
   "cell_type": "code",
   "execution_count": 564,
   "metadata": {},
   "outputs": [
    {
     "data": {
      "text/html": [
       "<div>\n",
       "<style scoped>\n",
       "    .dataframe tbody tr th:only-of-type {\n",
       "        vertical-align: middle;\n",
       "    }\n",
       "\n",
       "    .dataframe tbody tr th {\n",
       "        vertical-align: top;\n",
       "    }\n",
       "\n",
       "    .dataframe thead th {\n",
       "        text-align: right;\n",
       "    }\n",
       "</style>\n",
       "<table border=\"1\" class=\"dataframe\">\n",
       "  <thead>\n",
       "    <tr style=\"text-align: right;\">\n",
       "      <th>Store ID</th>\n",
       "      <th>L3</th>\n",
       "      <th>L1</th>\n",
       "      <th>P2</th>\n",
       "      <th>N6</th>\n",
       "      <th>N4</th>\n",
       "      <th>B8</th>\n",
       "    </tr>\n",
       "  </thead>\n",
       "  <tbody>\n",
       "    <tr>\n",
       "      <th>mean</th>\n",
       "      <td>NaN</td>\n",
       "      <td>NaN</td>\n",
       "      <td>NaN</td>\n",
       "      <td>NaN</td>\n",
       "      <td>NaN</td>\n",
       "      <td>NaN</td>\n",
       "    </tr>\n",
       "    <tr>\n",
       "      <th>Apr-18</th>\n",
       "      <td>0.085543</td>\n",
       "      <td>6.065389</td>\n",
       "      <td>-31.475560</td>\n",
       "      <td>15.384615</td>\n",
       "      <td>10.732197</td>\n",
       "      <td>1.220388</td>\n",
       "    </tr>\n",
       "    <tr>\n",
       "      <th>May-18</th>\n",
       "      <td>-11.538462</td>\n",
       "      <td>-3.826531</td>\n",
       "      <td>8.000000</td>\n",
       "      <td>4.347826</td>\n",
       "      <td>4.347826</td>\n",
       "      <td>8.510638</td>\n",
       "    </tr>\n",
       "    <tr>\n",
       "      <th>Jun-18</th>\n",
       "      <td>9.855072</td>\n",
       "      <td>-7.957560</td>\n",
       "      <td>11.111111</td>\n",
       "      <td>-6.250000</td>\n",
       "      <td>-6.250000</td>\n",
       "      <td>-29.411765</td>\n",
       "    </tr>\n",
       "    <tr>\n",
       "      <th>Jul-18</th>\n",
       "      <td>-6.860158</td>\n",
       "      <td>13.832853</td>\n",
       "      <td>32.666667</td>\n",
       "      <td>-31.111111</td>\n",
       "      <td>-14.000000</td>\n",
       "      <td>31.111111</td>\n",
       "    </tr>\n",
       "    <tr>\n",
       "      <th>Aug-18</th>\n",
       "      <td>3.399433</td>\n",
       "      <td>-16.455696</td>\n",
       "      <td>-5.527638</td>\n",
       "      <td>26.451613</td>\n",
       "      <td>0.258398</td>\n",
       "      <td>-10.381356</td>\n",
       "    </tr>\n",
       "    <tr>\n",
       "      <th>Sep-18</th>\n",
       "      <td>-10.684932</td>\n",
       "      <td>0.606061</td>\n",
       "      <td>1.595745</td>\n",
       "      <td>-2.295918</td>\n",
       "      <td>-17.525773</td>\n",
       "      <td>-8.983452</td>\n",
       "    </tr>\n",
       "    <tr>\n",
       "      <th>Oct-18</th>\n",
       "      <td>11.349693</td>\n",
       "      <td>2.409639</td>\n",
       "      <td>-19.895288</td>\n",
       "      <td>-18.015666</td>\n",
       "      <td>5.312500</td>\n",
       "      <td>-8.311688</td>\n",
       "    </tr>\n",
       "    <tr>\n",
       "      <th>Nov-18</th>\n",
       "      <td>26.446281</td>\n",
       "      <td>31.176471</td>\n",
       "      <td>59.803922</td>\n",
       "      <td>28.025478</td>\n",
       "      <td>41.839763</td>\n",
       "      <td>31.444759</td>\n",
       "    </tr>\n",
       "    <tr>\n",
       "      <th>Dec-18</th>\n",
       "      <td>17.429194</td>\n",
       "      <td>28.475336</td>\n",
       "      <td>12.883436</td>\n",
       "      <td>59.203980</td>\n",
       "      <td>41.422594</td>\n",
       "      <td>28.879310</td>\n",
       "    </tr>\n",
       "    <tr>\n",
       "      <th>Jan-19</th>\n",
       "      <td>-12.059369</td>\n",
       "      <td>-19.022688</td>\n",
       "      <td>-11.594203</td>\n",
       "      <td>-22.656250</td>\n",
       "      <td>-39.644970</td>\n",
       "      <td>-29.933110</td>\n",
       "    </tr>\n",
       "    <tr>\n",
       "      <th>Feb-19</th>\n",
       "      <td>-28.270042</td>\n",
       "      <td>-51.939655</td>\n",
       "      <td>-38.934426</td>\n",
       "      <td>-56.565657</td>\n",
       "      <td>-17.156863</td>\n",
       "      <td>9.546539</td>\n",
       "    </tr>\n",
       "    <tr>\n",
       "      <th>Mar-19</th>\n",
       "      <td>0.882353</td>\n",
       "      <td>-3.139013</td>\n",
       "      <td>-9.731544</td>\n",
       "      <td>13.023256</td>\n",
       "      <td>-22.189349</td>\n",
       "      <td>43.572985</td>\n",
       "    </tr>\n",
       "  </tbody>\n",
       "</table>\n",
       "</div>"
      ],
      "text/plain": [
       "Store ID         L3         L1         P2         N6         N4         B8\n",
       "mean            NaN        NaN        NaN        NaN        NaN        NaN\n",
       "Apr-18     0.085543   6.065389 -31.475560  15.384615  10.732197   1.220388\n",
       "May-18   -11.538462  -3.826531   8.000000   4.347826   4.347826   8.510638\n",
       "Jun-18     9.855072  -7.957560  11.111111  -6.250000  -6.250000 -29.411765\n",
       "Jul-18    -6.860158  13.832853  32.666667 -31.111111 -14.000000  31.111111\n",
       "Aug-18     3.399433 -16.455696  -5.527638  26.451613   0.258398 -10.381356\n",
       "Sep-18   -10.684932   0.606061   1.595745  -2.295918 -17.525773  -8.983452\n",
       "Oct-18    11.349693   2.409639 -19.895288 -18.015666   5.312500  -8.311688\n",
       "Nov-18    26.446281  31.176471  59.803922  28.025478  41.839763  31.444759\n",
       "Dec-18    17.429194  28.475336  12.883436  59.203980  41.422594  28.879310\n",
       "Jan-19   -12.059369 -19.022688 -11.594203 -22.656250 -39.644970 -29.933110\n",
       "Feb-19   -28.270042 -51.939655 -38.934426 -56.565657 -17.156863   9.546539\n",
       "Mar-19     0.882353  -3.139013  -9.731544  13.023256 -22.189349  43.572985"
      ]
     },
     "execution_count": 564,
     "metadata": {},
     "output_type": "execute_result"
    }
   ],
   "source": [
    "pct_mean = new_df.pct_change(axis=0).multiply(100)\n",
    "pct_mean"
   ]
  },
  {
   "cell_type": "markdown",
   "metadata": {},
   "source": [
    "### store that had the largest and smallest increase and in which months did they occur"
   ]
  },
  {
   "cell_type": "code",
   "execution_count": 585,
   "metadata": {},
   "outputs": [],
   "source": [
    "max_increase = pct_mean.describe()\n",
    "max_increase = max_increase.loc[\"max\"]"
   ]
  },
  {
   "cell_type": "code",
   "execution_count": 586,
   "metadata": {},
   "outputs": [],
   "source": [
    "max_index = pct_mean.idxmax()\n"
   ]
  },
  {
   "cell_type": "code",
   "execution_count": 589,
   "metadata": {
    "scrolled": true
   },
   "outputs": [
    {
     "data": {
      "text/html": [
       "<div>\n",
       "<style scoped>\n",
       "    .dataframe tbody tr th:only-of-type {\n",
       "        vertical-align: middle;\n",
       "    }\n",
       "\n",
       "    .dataframe tbody tr th {\n",
       "        vertical-align: top;\n",
       "    }\n",
       "\n",
       "    .dataframe thead th {\n",
       "        text-align: right;\n",
       "    }\n",
       "</style>\n",
       "<table border=\"1\" class=\"dataframe\">\n",
       "  <thead>\n",
       "    <tr style=\"text-align: right;\">\n",
       "      <th></th>\n",
       "      <th>Max Increase (%)</th>\n",
       "      <th>Month</th>\n",
       "    </tr>\n",
       "    <tr>\n",
       "      <th>Store ID</th>\n",
       "      <th></th>\n",
       "      <th></th>\n",
       "    </tr>\n",
       "  </thead>\n",
       "  <tbody>\n",
       "    <tr>\n",
       "      <th>L3</th>\n",
       "      <td>26.446281</td>\n",
       "      <td>Nov-18</td>\n",
       "    </tr>\n",
       "    <tr>\n",
       "      <th>L1</th>\n",
       "      <td>31.176471</td>\n",
       "      <td>Nov-18</td>\n",
       "    </tr>\n",
       "    <tr>\n",
       "      <th>P2</th>\n",
       "      <td>59.803922</td>\n",
       "      <td>Nov-18</td>\n",
       "    </tr>\n",
       "    <tr>\n",
       "      <th>N6</th>\n",
       "      <td>59.203980</td>\n",
       "      <td>Dec-18</td>\n",
       "    </tr>\n",
       "    <tr>\n",
       "      <th>N4</th>\n",
       "      <td>41.839763</td>\n",
       "      <td>Nov-18</td>\n",
       "    </tr>\n",
       "    <tr>\n",
       "      <th>B8</th>\n",
       "      <td>43.572985</td>\n",
       "      <td>Mar-19</td>\n",
       "    </tr>\n",
       "  </tbody>\n",
       "</table>\n",
       "</div>"
      ],
      "text/plain": [
       "          Max Increase (%)   Month\n",
       "Store ID                          \n",
       "L3               26.446281  Nov-18\n",
       "L1               31.176471  Nov-18\n",
       "P2               59.803922  Nov-18\n",
       "N6               59.203980  Dec-18\n",
       "N4               41.839763  Nov-18\n",
       "B8               43.572985  Mar-19"
      ]
     },
     "execution_count": 589,
     "metadata": {},
     "output_type": "execute_result"
    }
   ],
   "source": [
    "frame = { 'Max Increase (%)': max_increase, 'Month': max_index } \n",
    "result = pd.DataFrame(frame) \n",
    "result"
   ]
  },
  {
   "cell_type": "code",
   "execution_count": 587,
   "metadata": {},
   "outputs": [
    {
     "data": {
      "text/html": [
       "<div>\n",
       "<style scoped>\n",
       "    .dataframe tbody tr th:only-of-type {\n",
       "        vertical-align: middle;\n",
       "    }\n",
       "\n",
       "    .dataframe tbody tr th {\n",
       "        vertical-align: top;\n",
       "    }\n",
       "\n",
       "    .dataframe thead th {\n",
       "        text-align: right;\n",
       "    }\n",
       "</style>\n",
       "<table border=\"1\" class=\"dataframe\">\n",
       "  <thead>\n",
       "    <tr style=\"text-align: right;\">\n",
       "      <th></th>\n",
       "      <th>Min Increase (%)</th>\n",
       "      <th>Month</th>\n",
       "    </tr>\n",
       "    <tr>\n",
       "      <th>Store ID</th>\n",
       "      <th></th>\n",
       "      <th></th>\n",
       "    </tr>\n",
       "  </thead>\n",
       "  <tbody>\n",
       "    <tr>\n",
       "      <th>L3</th>\n",
       "      <td>-28.270042</td>\n",
       "      <td>Feb-19</td>\n",
       "    </tr>\n",
       "    <tr>\n",
       "      <th>L1</th>\n",
       "      <td>-51.939655</td>\n",
       "      <td>Feb-19</td>\n",
       "    </tr>\n",
       "    <tr>\n",
       "      <th>P2</th>\n",
       "      <td>-38.934426</td>\n",
       "      <td>Feb-19</td>\n",
       "    </tr>\n",
       "    <tr>\n",
       "      <th>N6</th>\n",
       "      <td>-56.565657</td>\n",
       "      <td>Feb-19</td>\n",
       "    </tr>\n",
       "    <tr>\n",
       "      <th>N4</th>\n",
       "      <td>-39.644970</td>\n",
       "      <td>Jan-19</td>\n",
       "    </tr>\n",
       "    <tr>\n",
       "      <th>B8</th>\n",
       "      <td>-29.933110</td>\n",
       "      <td>Jan-19</td>\n",
       "    </tr>\n",
       "  </tbody>\n",
       "</table>\n",
       "</div>"
      ],
      "text/plain": [
       "          Min Increase (%)   Month\n",
       "Store ID                          \n",
       "L3              -28.270042  Feb-19\n",
       "L1              -51.939655  Feb-19\n",
       "P2              -38.934426  Feb-19\n",
       "N6              -56.565657  Feb-19\n",
       "N4              -39.644970  Jan-19\n",
       "B8              -29.933110  Jan-19"
      ]
     },
     "execution_count": 587,
     "metadata": {},
     "output_type": "execute_result"
    }
   ],
   "source": [
    "min_increase = pct_mean.min()\n",
    "min_index = pct_mean.idxmin()\n",
    "frame2 = { 'Min Increase (%)': min_increase, 'Month': min_index } \n",
    "result2 = pd.DataFrame(frame2) \n",
    "result2"
   ]
  },
  {
   "cell_type": "markdown",
   "metadata": {},
   "source": [
    "### Across all the stores which months showed the smallest average increase and the largest average increase?"
   ]
  },
  {
   "cell_type": "code",
   "execution_count": 610,
   "metadata": {},
   "outputs": [
    {
     "name": "stdout",
     "output_type": "stream",
     "text": [
      "Largest Average increase\n"
     ]
    },
    {
     "data": {
      "text/plain": [
       "Max Increase (%)    59.8039\n",
       "Month                Nov-18\n",
       "dtype: object"
      ]
     },
     "execution_count": 610,
     "metadata": {},
     "output_type": "execute_result"
    }
   ],
   "source": [
    "print(\"Largest Average increase\")\n",
    "result.max()"
   ]
  },
  {
   "cell_type": "code",
   "execution_count": 609,
   "metadata": {},
   "outputs": [
    {
     "name": "stdout",
     "output_type": "stream",
     "text": [
      "Smallest Average increase\n"
     ]
    },
    {
     "data": {
      "text/plain": [
       "Min Increase (%)   -56.5657\n",
       "Month                Feb-19\n",
       "dtype: object"
      ]
     },
     "execution_count": 609,
     "metadata": {},
     "output_type": "execute_result"
    }
   ],
   "source": [
    "print(\"Smallest Average increase\")\n",
    "result2.min()"
   ]
  },
  {
   "cell_type": "code",
   "execution_count": null,
   "metadata": {},
   "outputs": [],
   "source": []
  }
 ],
 "metadata": {
  "kernelspec": {
   "display_name": "Python 3",
   "language": "python",
   "name": "python3"
  },
  "language_info": {
   "codemirror_mode": {
    "name": "ipython",
    "version": 3
   },
   "file_extension": ".py",
   "mimetype": "text/x-python",
   "name": "python",
   "nbconvert_exporter": "python",
   "pygments_lexer": "ipython3",
   "version": "3.8.3"
  }
 },
 "nbformat": 4,
 "nbformat_minor": 4
}
