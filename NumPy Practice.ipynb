{
 "cells": [
  {
   "cell_type": "markdown",
   "metadata": {},
   "source": [
    "# Exercise 1"
   ]
  },
  {
   "cell_type": "markdown",
   "metadata": {},
   "source": [
    "Write a small Numpy array by:<br>\n",
    "\n",
    "generating 10000 random numbers in a 2-dimensional array<br>\n",
    "for each value in the array calculate the square root<br>\n",
    "and then sum all those calculations.<br>"
   ]
  },
  {
   "cell_type": "code",
   "execution_count": 4,
   "metadata": {},
   "outputs": [],
   "source": [
    "import numpy as np\n"
   ]
  },
  {
   "cell_type": "code",
   "execution_count": 9,
   "metadata": {},
   "outputs": [],
   "source": [
    "array = np.random.randint(10,100, size=(1000,10))"
   ]
  },
  {
   "cell_type": "code",
   "execution_count": 10,
   "metadata": {},
   "outputs": [],
   "source": [
    "result = np.sqrt(array)"
   ]
  },
  {
   "cell_type": "code",
   "execution_count": 11,
   "metadata": {},
   "outputs": [
    {
     "data": {
      "text/plain": [
       "71405.72239664628"
      ]
     },
     "execution_count": 11,
     "metadata": {},
     "output_type": "execute_result"
    }
   ],
   "source": [
    "np.sum(result)"
   ]
  },
  {
   "cell_type": "markdown",
   "metadata": {},
   "source": [
    "# Exercise 2\n"
   ]
  },
  {
   "cell_type": "markdown",
   "metadata": {},
   "source": [
    "Import this .csv file Preview the document into a program and using a NumPy array select the following data:<br>\n",
    "\n",
    "All the data in rows, 5,7 and 9.<br>\n",
    "All the data in columns 0, 7, 10.<br>\n",
    "The data in columns 1 to 3 (exclusively), from rows 7 to 9 (inclusively).<br>"
   ]
  },
  {
   "cell_type": "code",
   "execution_count": 12,
   "metadata": {},
   "outputs": [],
   "source": [
    "file_numpy = np.genfromtxt(\"data.csv\", delimiter=\",\")\n"
   ]
  },
  {
   "cell_type": "code",
   "execution_count": 13,
   "metadata": {},
   "outputs": [
    {
     "data": {
      "text/plain": [
       "array([[ 68,  54,  95,  65,  68,   6,  50,  63,  99,  81,  14],\n",
       "       [  5,  85,  83,  22,  39,  26,  73,  77,  97,  75,  33],\n",
       "       [  1,  46,  39,  53,  67,  19,  87,   3,  84,  58,  26],\n",
       "       [ 83,  81,  31,  96,  13,   3,  58,  32, 100, 100,  96],\n",
       "       [ 71,   2,  63,  84,  85,   5,  67,  35,  76,  77,  76],\n",
       "       [ 79,  67,  44, 100,  89,  71,  27,  46,  45,  13,  32],\n",
       "       [100,  27,  23,  76,  53,  86,   2,  59,  30,  52,   2],\n",
       "       [ 37,  43,  10,  16,  77,  40,  62,   4,  22,  64,  15],\n",
       "       [ 97,  61,   8,  99,  67,  42,  59,   7,  86,  42,  21],\n",
       "       [ 80,  93,  76,  46,  46,  35,  57,  70,  93,  36,  86],\n",
       "       [ 25,  23,  89,  58,  89,  52,  21,  65,  52,  25,  45]])"
      ]
     },
     "execution_count": 13,
     "metadata": {},
     "output_type": "execute_result"
    }
   ],
   "source": [
    "file_numpy = file_numpy.astype('int64')\n",
    "\n",
    "file_numpy\n"
   ]
  },
  {
   "cell_type": "code",
   "execution_count": 14,
   "metadata": {},
   "outputs": [],
   "source": [
    "rows = np.vstack([file_numpy[5:8,:],file_numpy[9,:]])"
   ]
  },
  {
   "cell_type": "code",
   "execution_count": 15,
   "metadata": {},
   "outputs": [
    {
     "data": {
      "text/plain": [
       "array([[ 79,  67,  44, 100,  89,  71,  27,  46,  45,  13,  32],\n",
       "       [100,  27,  23,  76,  53,  86,   2,  59,  30,  52,   2],\n",
       "       [ 37,  43,  10,  16,  77,  40,  62,   4,  22,  64,  15],\n",
       "       [ 80,  93,  76,  46,  46,  35,  57,  70,  93,  36,  86]])"
      ]
     },
     "execution_count": 15,
     "metadata": {},
     "output_type": "execute_result"
    }
   ],
   "source": [
    "rows"
   ]
  },
  {
   "cell_type": "code",
   "execution_count": 16,
   "metadata": {},
   "outputs": [
    {
     "data": {
      "text/plain": [
       "array([[ 79,  67,  44, 100,  89,  71,  27,  46,  45,  13,  32],\n",
       "       [100,  27,  23,  76,  53,  86,   2,  59,  30,  52,   2],\n",
       "       [ 37,  43,  10,  16,  77,  40,  62,   4,  22,  64,  15],\n",
       "       [ 80,  93,  76,  46,  46,  35,  57,  70,  93,  36,  86]])"
      ]
     },
     "execution_count": 16,
     "metadata": {},
     "output_type": "execute_result"
    }
   ],
   "source": [
    "# Or using indexes\n",
    "file_numpy[[5,6,7,9],:]"
   ]
  },
  {
   "cell_type": "code",
   "execution_count": 17,
   "metadata": {},
   "outputs": [
    {
     "data": {
      "text/plain": [
       "array([[ 68,  63,  14],\n",
       "       [  5,  77,  33],\n",
       "       [  1,   3,  26],\n",
       "       [ 83,  32,  96],\n",
       "       [ 71,  35,  76],\n",
       "       [ 79,  46,  32],\n",
       "       [100,  59,   2],\n",
       "       [ 37,   4,  15],\n",
       "       [ 97,   7,  21],\n",
       "       [ 80,  70,  86],\n",
       "       [ 25,  65,  45]])"
      ]
     },
     "execution_count": 17,
     "metadata": {},
     "output_type": "execute_result"
    }
   ],
   "source": [
    "# Columns\n",
    "file_numpy[:,[0,7,10]]"
   ]
  },
  {
   "cell_type": "code",
   "execution_count": 18,
   "metadata": {},
   "outputs": [],
   "source": [
    "# The data in columns 1 to 3 (exclusively), from rows 7 to 9 (inclusively).\n",
    "data = np.vstack(file_numpy[7:10,1:3])"
   ]
  },
  {
   "cell_type": "code",
   "execution_count": 19,
   "metadata": {},
   "outputs": [
    {
     "data": {
      "text/plain": [
       "array([[43, 10],\n",
       "       [61,  8],\n",
       "       [93, 76]])"
      ]
     },
     "execution_count": 19,
     "metadata": {},
     "output_type": "execute_result"
    }
   ],
   "source": [
    "data"
   ]
  },
  {
   "cell_type": "code",
   "execution_count": 20,
   "metadata": {
    "scrolled": true
   },
   "outputs": [
    {
     "data": {
      "text/plain": [
       "array([[43, 10],\n",
       "       [61,  8],\n",
       "       [93, 76]])"
      ]
     },
     "execution_count": 20,
     "metadata": {},
     "output_type": "execute_result"
    }
   ],
   "source": [
    "# or using indexes\n",
    "file_numpy[[7,8,9],1:3]"
   ]
  },
  {
   "cell_type": "markdown",
   "metadata": {},
   "source": [
    "# Exercise 3"
   ]
  },
  {
   "cell_type": "markdown",
   "metadata": {},
   "source": [
    "<pre>Extract from .csv filePreview the document the column and row headers into two separate arrays. Then extract the data values into a separate 2D array. Using these 3 arrays extract the following data:\n",
    "\n",
    "All the sales for the second quarter (Jul-18 to Sep-18 inclusive) calculating the total and the mean for each month.\n",
    "All the sales for stores L3 and L1, for the first and third quarter calculating the total and the mean for each quarter for each store.\n",
    "All the sales for N6 and N4 that are lower than 400 and list the months in which the occur.<pre>"
   ]
  },
  {
   "cell_type": "code",
   "execution_count": 148,
   "metadata": {},
   "outputs": [],
   "source": [
    "file= np.genfromtxt(\"SalesData.csv\", delimiter=\",\")"
   ]
  },
  {
   "cell_type": "code",
   "execution_count": 149,
   "metadata": {},
   "outputs": [],
   "source": [
    "import pandas as pd\n",
    "file2 = pd.read_csv(\"SalesData.csv\",header=None)"
   ]
  },
  {
   "cell_type": "code",
   "execution_count": 150,
   "metadata": {},
   "outputs": [],
   "source": [
    "head = np.array(file2[0:1])"
   ]
  },
  {
   "cell_type": "code",
   "execution_count": 151,
   "metadata": {},
   "outputs": [
    {
     "name": "stdout",
     "output_type": "stream",
     "text": [
      "['Apr-18' 'May-18' 'Jun-18' 'Jul-18' 'Aug-18' 'Sep-18' 'Oct-18' 'Nov-18'\n",
      " 'Dec-18' 'Jan-19' 'Feb-19' 'Mar-19']\n"
     ]
    }
   ],
   "source": [
    "head = head[0,1:13]\n",
    "print(head)"
   ]
  },
  {
   "cell_type": "code",
   "execution_count": 152,
   "metadata": {},
   "outputs": [
    {
     "name": "stdout",
     "output_type": "stream",
     "text": [
      "['L3' 'L1' 'P2' 'N6' 'N4' 'B8']\n"
     ]
    }
   ],
   "source": [
    "index = np.array(file2[0])\n",
    "index = index[1:7]\n",
    "print(index)\n",
    "\n"
   ]
  },
  {
   "cell_type": "code",
   "execution_count": 153,
   "metadata": {},
   "outputs": [],
   "source": [
    "def get_month(month):\n",
    "    i = np.where(head==month)\n",
    "    return i[0][0]\n",
    "def get_store(store):\n",
    "    i = np.where(index==store)\n",
    "    return i[0][0]"
   ]
  },
  {
   "cell_type": "code",
   "execution_count": 154,
   "metadata": {},
   "outputs": [
    {
     "data": {
      "text/html": [
       "<div>\n",
       "<style scoped>\n",
       "    .dataframe tbody tr th:only-of-type {\n",
       "        vertical-align: middle;\n",
       "    }\n",
       "\n",
       "    .dataframe tbody tr th {\n",
       "        vertical-align: top;\n",
       "    }\n",
       "\n",
       "    .dataframe thead th {\n",
       "        text-align: right;\n",
       "    }\n",
       "</style>\n",
       "<table border=\"1\" class=\"dataframe\">\n",
       "  <thead>\n",
       "    <tr style=\"text-align: right;\">\n",
       "      <th></th>\n",
       "      <th>0</th>\n",
       "      <th>1</th>\n",
       "      <th>2</th>\n",
       "      <th>3</th>\n",
       "      <th>4</th>\n",
       "      <th>5</th>\n",
       "      <th>6</th>\n",
       "      <th>7</th>\n",
       "      <th>8</th>\n",
       "      <th>9</th>\n",
       "      <th>10</th>\n",
       "      <th>11</th>\n",
       "      <th>12</th>\n",
       "    </tr>\n",
       "  </thead>\n",
       "  <tbody>\n",
       "    <tr>\n",
       "      <th>0</th>\n",
       "      <td>NaN</td>\n",
       "      <td>Apr-18</td>\n",
       "      <td>May-18</td>\n",
       "      <td>Jun-18</td>\n",
       "      <td>Jul-18</td>\n",
       "      <td>Aug-18</td>\n",
       "      <td>Sep-18</td>\n",
       "      <td>Oct-18</td>\n",
       "      <td>Nov-18</td>\n",
       "      <td>Dec-18</td>\n",
       "      <td>Jan-19</td>\n",
       "      <td>Feb-19</td>\n",
       "      <td>Mar-19</td>\n",
       "    </tr>\n",
       "    <tr>\n",
       "      <th>1</th>\n",
       "      <td>L3</td>\n",
       "      <td>390</td>\n",
       "      <td>345</td>\n",
       "      <td>379</td>\n",
       "      <td>353</td>\n",
       "      <td>365</td>\n",
       "      <td>326</td>\n",
       "      <td>363</td>\n",
       "      <td>459</td>\n",
       "      <td>539</td>\n",
       "      <td>474</td>\n",
       "      <td>340</td>\n",
       "      <td>343</td>\n",
       "    </tr>\n",
       "    <tr>\n",
       "      <th>2</th>\n",
       "      <td>L1</td>\n",
       "      <td>392</td>\n",
       "      <td>377</td>\n",
       "      <td>347</td>\n",
       "      <td>395</td>\n",
       "      <td>330</td>\n",
       "      <td>332</td>\n",
       "      <td>340</td>\n",
       "      <td>446</td>\n",
       "      <td>573</td>\n",
       "      <td>464</td>\n",
       "      <td>223</td>\n",
       "      <td>216</td>\n",
       "    </tr>\n",
       "    <tr>\n",
       "      <th>3</th>\n",
       "      <td>P2</td>\n",
       "      <td>250</td>\n",
       "      <td>270</td>\n",
       "      <td>300</td>\n",
       "      <td>398</td>\n",
       "      <td>376</td>\n",
       "      <td>382</td>\n",
       "      <td>306</td>\n",
       "      <td>489</td>\n",
       "      <td>552</td>\n",
       "      <td>488</td>\n",
       "      <td>298</td>\n",
       "      <td>269</td>\n",
       "    </tr>\n",
       "    <tr>\n",
       "      <th>4</th>\n",
       "      <td>N6</td>\n",
       "      <td>460</td>\n",
       "      <td>480</td>\n",
       "      <td>450</td>\n",
       "      <td>310</td>\n",
       "      <td>392</td>\n",
       "      <td>383</td>\n",
       "      <td>314</td>\n",
       "      <td>402</td>\n",
       "      <td>640</td>\n",
       "      <td>495</td>\n",
       "      <td>215</td>\n",
       "      <td>243</td>\n",
       "    </tr>\n",
       "    <tr>\n",
       "      <th>5</th>\n",
       "      <td>N4</td>\n",
       "      <td>460</td>\n",
       "      <td>480</td>\n",
       "      <td>450</td>\n",
       "      <td>387</td>\n",
       "      <td>388</td>\n",
       "      <td>320</td>\n",
       "      <td>337</td>\n",
       "      <td>478</td>\n",
       "      <td>676</td>\n",
       "      <td>408</td>\n",
       "      <td>338</td>\n",
       "      <td>263</td>\n",
       "    </tr>\n",
       "    <tr>\n",
       "      <th>6</th>\n",
       "      <td>B8</td>\n",
       "      <td>470</td>\n",
       "      <td>510</td>\n",
       "      <td>360</td>\n",
       "      <td>472</td>\n",
       "      <td>423</td>\n",
       "      <td>385</td>\n",
       "      <td>353</td>\n",
       "      <td>464</td>\n",
       "      <td>598</td>\n",
       "      <td>419</td>\n",
       "      <td>459</td>\n",
       "      <td>659</td>\n",
       "    </tr>\n",
       "  </tbody>\n",
       "</table>\n",
       "</div>"
      ],
      "text/plain": [
       "    0       1       2       3       4       5       6       7       8   \\\n",
       "0  NaN  Apr-18  May-18  Jun-18  Jul-18  Aug-18  Sep-18  Oct-18  Nov-18   \n",
       "1   L3     390     345     379     353     365     326     363     459   \n",
       "2   L1     392     377     347     395     330     332     340     446   \n",
       "3   P2     250     270     300     398     376     382     306     489   \n",
       "4   N6     460     480     450     310     392     383     314     402   \n",
       "5   N4     460     480     450     387     388     320     337     478   \n",
       "6   B8     470     510     360     472     423     385     353     464   \n",
       "\n",
       "       9       10      11      12  \n",
       "0  Dec-18  Jan-19  Feb-19  Mar-19  \n",
       "1     539     474     340     343  \n",
       "2     573     464     223     216  \n",
       "3     552     488     298     269  \n",
       "4     640     495     215     243  \n",
       "5     676     408     338     263  \n",
       "6     598     419     459     659  "
      ]
     },
     "execution_count": 154,
     "metadata": {},
     "output_type": "execute_result"
    }
   ],
   "source": [
    "data = file[1:,1:]\n",
    "file2"
   ]
  },
  {
   "cell_type": "markdown",
   "metadata": {},
   "source": [
    "All the sales for the second quarter (Jul-18 to Sep-18 inclusive) calculating the total and the mean for each month.\n"
   ]
  },
  {
   "cell_type": "code",
   "execution_count": 155,
   "metadata": {},
   "outputs": [
    {
     "data": {
      "text/plain": [
       "array([[353., 365., 326.],\n",
       "       [395., 330., 332.],\n",
       "       [398., 376., 382.],\n",
       "       [310., 392., 383.],\n",
       "       [387., 388., 320.],\n",
       "       [472., 423., 385.]])"
      ]
     },
     "execution_count": 155,
     "metadata": {},
     "output_type": "execute_result"
    }
   ],
   "source": [
    "sec_quart = data[:,[get_month(\"Jul-18\"),get_month(\"Aug-18\"),get_month(\"Sep-18\")]]\n",
    "sec_quart"
   ]
  },
  {
   "cell_type": "code",
   "execution_count": 156,
   "metadata": {},
   "outputs": [
    {
     "name": "stdout",
     "output_type": "stream",
     "text": [
      "2315.0\n",
      "2274.0\n",
      "2128.0\n"
     ]
    }
   ],
   "source": [
    "jul_total = np.sum(sec_quart[:,0])\n",
    "aug_total = np.sum(sec_quart[:,1])\n",
    "sep_total = np.sum(sec_quart[:,2])\n",
    "print(jul_total)\n",
    "print(aug_total)\n",
    "print(sep_total)"
   ]
  },
  {
   "cell_type": "code",
   "execution_count": 157,
   "metadata": {},
   "outputs": [
    {
     "name": "stdout",
     "output_type": "stream",
     "text": [
      "385.8333333333333\n",
      "379.0\n",
      "354.6666666666667\n"
     ]
    }
   ],
   "source": [
    "jul_mean = np.mean(sec_quart[:,0])\n",
    "aug_mean = np.mean(sec_quart[:,1])\n",
    "sep_mean = np.mean(sec_quart[:,2])\n",
    "print(jul_mean)\n",
    "print(aug_mean)\n",
    "print(sep_mean)"
   ]
  },
  {
   "cell_type": "markdown",
   "metadata": {},
   "source": [
    "All the sales for stores L3 and L1, for the first and third quarter calculating the total and the mean for each quarter for each store."
   ]
  },
  {
   "cell_type": "code",
   "execution_count": 158,
   "metadata": {},
   "outputs": [],
   "source": [
    "first_q = data[[get_store(\"L3\"),get_store(\"L1\")],get_month(\"Apr-18\"):get_month(\"Jul-18\")]\n",
    "third_q = data[[get_store(\"L3\"),get_store(\"L1\")],get_month(\"Oct-18\"):get_month(\"Jan-19\")]\n",
    "total_1q_L3 = np.sum(first_q[0,:])\n",
    "total_3q_L3 = np.sum(third_q[0,:])\n",
    "total_1q_L1 = np.sum(first_q[1,:])\n",
    "total_3q_L1 = np.sum(third_q[1,:])"
   ]
  },
  {
   "cell_type": "code",
   "execution_count": 159,
   "metadata": {},
   "outputs": [
    {
     "data": {
      "text/plain": [
       "1114.0"
      ]
     },
     "execution_count": 159,
     "metadata": {},
     "output_type": "execute_result"
    }
   ],
   "source": [
    "total_1q_L3"
   ]
  },
  {
   "cell_type": "code",
   "execution_count": 160,
   "metadata": {},
   "outputs": [
    {
     "data": {
      "text/plain": [
       "1361.0"
      ]
     },
     "execution_count": 160,
     "metadata": {},
     "output_type": "execute_result"
    }
   ],
   "source": [
    "total_3q_L3"
   ]
  },
  {
   "cell_type": "code",
   "execution_count": 161,
   "metadata": {},
   "outputs": [
    {
     "data": {
      "text/plain": [
       "1116.0"
      ]
     },
     "execution_count": 161,
     "metadata": {},
     "output_type": "execute_result"
    }
   ],
   "source": [
    "total_1q_L1\n"
   ]
  },
  {
   "cell_type": "code",
   "execution_count": 162,
   "metadata": {},
   "outputs": [
    {
     "data": {
      "text/plain": [
       "1359.0"
      ]
     },
     "execution_count": 162,
     "metadata": {},
     "output_type": "execute_result"
    }
   ],
   "source": [
    "total_3q_L1"
   ]
  },
  {
   "cell_type": "code",
   "execution_count": 163,
   "metadata": {},
   "outputs": [
    {
     "data": {
      "text/plain": [
       "array([[390., 345., 379.],\n",
       "       [392., 377., 347.]])"
      ]
     },
     "execution_count": 163,
     "metadata": {},
     "output_type": "execute_result"
    }
   ],
   "source": [
    "first_q"
   ]
  },
  {
   "cell_type": "code",
   "execution_count": 164,
   "metadata": {},
   "outputs": [],
   "source": [
    "mean_1q_L3 = np.mean(first_q[0,:])\n",
    "mean_3q_L3 = np.mean(third_q[0,:])\n",
    "mean_1q_L1 = np.mean(first_q[1,:])\n",
    "mean_3q_L1 = np.mean(third_q[1,:])"
   ]
  },
  {
   "cell_type": "code",
   "execution_count": 165,
   "metadata": {},
   "outputs": [
    {
     "data": {
      "text/plain": [
       "371.3333333333333"
      ]
     },
     "execution_count": 165,
     "metadata": {},
     "output_type": "execute_result"
    }
   ],
   "source": [
    "mean_1q_L3"
   ]
  },
  {
   "cell_type": "code",
   "execution_count": 166,
   "metadata": {},
   "outputs": [
    {
     "data": {
      "text/plain": [
       "453.6666666666667"
      ]
     },
     "execution_count": 166,
     "metadata": {},
     "output_type": "execute_result"
    }
   ],
   "source": [
    "mean_3q_L3 \n"
   ]
  },
  {
   "cell_type": "code",
   "execution_count": 167,
   "metadata": {},
   "outputs": [
    {
     "data": {
      "text/plain": [
       "372.0"
      ]
     },
     "execution_count": 167,
     "metadata": {},
     "output_type": "execute_result"
    }
   ],
   "source": [
    "mean_1q_L1\n"
   ]
  },
  {
   "cell_type": "code",
   "execution_count": 168,
   "metadata": {},
   "outputs": [
    {
     "data": {
      "text/plain": [
       "453.0"
      ]
     },
     "execution_count": 168,
     "metadata": {},
     "output_type": "execute_result"
    }
   ],
   "source": [
    "\n",
    "mean_3q_L1 "
   ]
  },
  {
   "cell_type": "markdown",
   "metadata": {},
   "source": [
    "All the sales for N6 and N4 that are lower than 400 and list the months in which the occur."
   ]
  },
  {
   "cell_type": "code",
   "execution_count": 169,
   "metadata": {},
   "outputs": [],
   "source": [
    "def get_str_month(index):\n",
    "    return head[index]"
   ]
  },
  {
   "cell_type": "code",
   "execution_count": 170,
   "metadata": {},
   "outputs": [],
   "source": [
    "def sales_lower_than(store_ID, smaller_than_number):\n",
    "    store = data[get_store(store_ID),:] < smaller_than_number\n",
    "    for i in range(store.size):\n",
    "        if store[i] == True:\n",
    "            print(get_str_month(i))\n",
    "        else:\n",
    "            pass\n"
   ]
  },
  {
   "cell_type": "code",
   "execution_count": 171,
   "metadata": {},
   "outputs": [
    {
     "name": "stdout",
     "output_type": "stream",
     "text": [
      "Jul-18\n",
      "Aug-18\n",
      "Sep-18\n",
      "Oct-18\n",
      "Feb-19\n",
      "Mar-19\n"
     ]
    }
   ],
   "source": [
    "sales_lower_than(\"N6\",400)"
   ]
  },
  {
   "cell_type": "code",
   "execution_count": 172,
   "metadata": {},
   "outputs": [
    {
     "name": "stdout",
     "output_type": "stream",
     "text": [
      "Jul-18\n",
      "Aug-18\n",
      "Sep-18\n",
      "Oct-18\n",
      "Feb-19\n",
      "Mar-19\n"
     ]
    }
   ],
   "source": [
    "sales_lower_than(\"N4\",400)"
   ]
  },
  {
   "cell_type": "markdown",
   "metadata": {},
   "source": [
    "# Exercise 4"
   ]
  },
  {
   "cell_type": "markdown",
   "metadata": {},
   "source": [
    "<pre>A bug lives in the middle of a long thin island where it can only move left or right. The island is 7 units (steps) long. If the bug reaches the edge of the island in either direction it will fall off and drown in the sea. The bug can only move one step in either direction. If the direction is randomly selected how many steps will it take before the bug falls off?<pre>"
   ]
  },
  {
   "cell_type": "code",
   "execution_count": 173,
   "metadata": {},
   "outputs": [],
   "source": [
    "island = np.zeros(7)"
   ]
  },
  {
   "cell_type": "code",
   "execution_count": 174,
   "metadata": {},
   "outputs": [
    {
     "data": {
      "text/plain": [
       "array([0., 0., 0., 0., 0., 0., 0.])"
      ]
     },
     "execution_count": 174,
     "metadata": {},
     "output_type": "execute_result"
    }
   ],
   "source": [
    "island"
   ]
  },
  {
   "cell_type": "markdown",
   "metadata": {},
   "source": [
    "<pre>\n",
    "the bug can fall either from left edge or from right edge\n",
    "it will take at least 4 steps\n",
    "the probability of the bug falling within the first four steps can be thought in terms of flipping a coin 4 times and landing on the same side. \n",
    "if it is whichever side then the probability is 1/16 that the bug will fall in the first 4 steps. \n",
    "\n",
    "\n",
    "lets take a number 4 that is the middle \n",
    "number 1 that is the left edge and 0 that means fall\n",
    "number 7 that is the right edge and 8 that means the fall\n",
    "\n",
    "lets generate a random number between either -1 or 1 and see how many times the bug will fall\n"
   ]
  },
  {
   "cell_type": "code",
   "execution_count": 214,
   "metadata": {},
   "outputs": [],
   "source": [
    "middle = 4\n",
    "left_edge = 1\n",
    "right_edge = 7\n",
    "falls = 0\n",
    "steps = 0\n",
    "steps_count = np.array([], dtype=\"int32\")\n"
   ]
  },
  {
   "cell_type": "code",
   "execution_count": 215,
   "metadata": {},
   "outputs": [],
   "source": [
    "from random import choice\n"
   ]
  },
  {
   "cell_type": "code",
   "execution_count": 216,
   "metadata": {},
   "outputs": [],
   "source": [
    "for i in range(100):\n",
    "    middle += choice([i for i in range(-1,2) if i not in [0]])\n",
    "    steps += 1\n",
    "    \n",
    "    if middle > 7 or middle < 1:\n",
    "        falls += 1\n",
    "        middle = 4\n",
    "        #steps before fall\n",
    "        steps_count = np.append(steps_count,steps)\n",
    "        steps=0\n",
    "        \n",
    "        \n",
    "\n"
   ]
  },
  {
   "cell_type": "code",
   "execution_count": 217,
   "metadata": {},
   "outputs": [
    {
     "data": {
      "text/plain": [
       "10"
      ]
     },
     "execution_count": 217,
     "metadata": {},
     "output_type": "execute_result"
    }
   ],
   "source": [
    "falls"
   ]
  },
  {
   "cell_type": "code",
   "execution_count": 218,
   "metadata": {},
   "outputs": [
    {
     "data": {
      "text/plain": [
       "array([16,  4,  6,  6, 16,  4,  8,  4,  6, 16])"
      ]
     },
     "execution_count": 218,
     "metadata": {},
     "output_type": "execute_result"
    }
   ],
   "source": [
    "steps_count"
   ]
  },
  {
   "cell_type": "code",
   "execution_count": 220,
   "metadata": {},
   "outputs": [],
   "source": [
    "%matplotlib inline\n",
    "import matplotlib.pyplot as plt\n",
    "plt.style.use('fivethirtyeight')\n",
    "from scipy import stats"
   ]
  },
  {
   "cell_type": "code",
   "execution_count": 221,
   "metadata": {},
   "outputs": [],
   "source": [
    "mean = np.mean(steps_count)\n",
    "mean_arr = np.full((steps_count.size),mean,dtype=\"float32\")"
   ]
  },
  {
   "cell_type": "code",
   "execution_count": 222,
   "metadata": {},
   "outputs": [],
   "source": [
    "median = np.median(steps_count)\n",
    "median_arr = np.full((steps_count.size),median,dtype=\"float32\")"
   ]
  },
  {
   "cell_type": "code",
   "execution_count": 227,
   "metadata": {},
   "outputs": [
    {
     "data": {
      "image/png": "[encoded data removed]",
      "text/plain": [
       "<Figure size 1188x396 with 1 Axes>"
      ]
     },
     "metadata": {},
     "output_type": "display_data"
    }
   ],
   "source": [
    "plt.figure(figsize=(16.5, 5.5))\n",
    "plt.plot(steps_count, label=\"SBF\")\n",
    "plt.plot(mean_arr, label=\"MEAN\",alpha=0.4)\n",
    "plt.plot(median_arr, label=\"MEDIAN\",alpha=0.4)\n",
    "\n",
    "plt.title(\"Bug steps for 100 iterations\")\n",
    "plt.xlabel(\"Number of Falls\")\n",
    "plt.ylabel(\"Steps Before Fall\")\n",
    "plt.legend(loc ='upper left' )\n",
    "plt.show()"
   ]
  },
  {
   "cell_type": "code",
   "execution_count": 225,
   "metadata": {},
   "outputs": [],
   "source": [
    "std_dev = np.std(steps_count)"
   ]
  },
  {
   "cell_type": "code",
   "execution_count": 226,
   "metadata": {},
   "outputs": [
    {
     "data": {
      "text/plain": [
       "4.983974317750844"
      ]
     },
     "execution_count": 226,
     "metadata": {},
     "output_type": "execute_result"
    }
   ],
   "source": [
    "std_dev"
   ]
  },
  {
   "cell_type": "code",
   "execution_count": null,
   "metadata": {},
   "outputs": [],
   "source": []
  }
 ],
 "metadata": {
  "kernelspec": {
   "display_name": "Python 3",
   "language": "python",
   "name": "python3"
  },
  "language_info": {
   "codemirror_mode": {
    "name": "ipython",
    "version": 3
   },
   "file_extension": ".py",
   "mimetype": "text/x-python",
   "name": "python",
   "nbconvert_exporter": "python",
   "pygments_lexer": "ipython3",
   "version": "3.8.3"
  }
 },
 "nbformat": 4,
 "nbformat_minor": 4
}
